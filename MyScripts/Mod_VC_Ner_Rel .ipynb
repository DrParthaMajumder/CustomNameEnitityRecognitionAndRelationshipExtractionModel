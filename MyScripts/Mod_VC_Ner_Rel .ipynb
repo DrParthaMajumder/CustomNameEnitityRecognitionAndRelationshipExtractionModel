{
  "cells": [
    {
      "cell_type": "code",
      "execution_count": 1,
      "metadata": {
        "colab": {
          "base_uri": "https://localhost:8080/"
        },
        "id": "hWQV-Xje-pSt",
        "outputId": "e09ab0ce-278a-4421-d75e-fe7b184ebeb4"
      },
      "outputs": [
        {
          "output_type": "stream",
          "name": "stdout",
          "text": [
            "Mounted at /content/gdrive\n"
          ]
        }
      ],
      "source": [
        "from google.colab import drive\n",
        "drive.mount('/content/gdrive')"
      ]
    },
    {
      "cell_type": "code",
      "execution_count": null,
      "metadata": {
        "colab": {
          "base_uri": "https://localhost:8080/"
        },
        "id": "5Pj_XMk9-6HI",
        "outputId": "418275e1-ca8c-4d2c-ae51-1549179cd615"
      },
      "outputs": [
        {
          "output_type": "stream",
          "name": "stdout",
          "text": [
            "2023-04-24 06:01:10.939079: I tensorflow/core/platform/cpu_feature_guard.cc:182] This TensorFlow binary is optimized to use available CPU instructions in performance-critical operations.\n",
            "To enable the following instructions: AVX2 FMA, in other operations, rebuild TensorFlow with the appropriate compiler flags.\n",
            "2023-04-24 06:01:12.002176: W tensorflow/compiler/tf2tensorrt/utils/py_utils.cc:38] TF-TRT Warning: Could not find TensorRT\n",
            "Looking in indexes: https://pypi.org/simple, https://us-python.pkg.dev/colab-wheels/public/simple/\n",
            "Collecting en-core-web-lg==3.5.0\n",
            "  Downloading https://github.com/explosion/spacy-models/releases/download/en_core_web_lg-3.5.0/en_core_web_lg-3.5.0-py3-none-any.whl (587.7 MB)\n",
            "\u001b[2K     \u001b[90m━━━━━━━━━━━━━━━━━━━━━━━━━━━━━━━━━━━━━━━\u001b[0m \u001b[32m587.7/587.7 MB\u001b[0m \u001b[31m2.8 MB/s\u001b[0m eta \u001b[36m0:00:00\u001b[0m\n",
            "\u001b[?25hRequirement already satisfied: spacy<3.6.0,>=3.5.0 in /usr/local/lib/python3.9/dist-packages (from en-core-web-lg==3.5.0) (3.5.2)\n",
            "Requirement already satisfied: requests<3.0.0,>=2.13.0 in /usr/local/lib/python3.9/dist-packages (from spacy<3.6.0,>=3.5.0->en-core-web-lg==3.5.0) (2.27.1)\n",
            "Requirement already satisfied: tqdm<5.0.0,>=4.38.0 in /usr/local/lib/python3.9/dist-packages (from spacy<3.6.0,>=3.5.0->en-core-web-lg==3.5.0) (4.65.0)\n",
            "Requirement already satisfied: jinja2 in /usr/local/lib/python3.9/dist-packages (from spacy<3.6.0,>=3.5.0->en-core-web-lg==3.5.0) (3.1.2)\n",
            "Requirement already satisfied: langcodes<4.0.0,>=3.2.0 in /usr/local/lib/python3.9/dist-packages (from spacy<3.6.0,>=3.5.0->en-core-web-lg==3.5.0) (3.3.0)\n",
            "Requirement already satisfied: pathy>=0.10.0 in /usr/local/lib/python3.9/dist-packages (from spacy<3.6.0,>=3.5.0->en-core-web-lg==3.5.0) (0.10.1)\n",
            "Requirement already satisfied: thinc<8.2.0,>=8.1.8 in /usr/local/lib/python3.9/dist-packages (from spacy<3.6.0,>=3.5.0->en-core-web-lg==3.5.0) (8.1.9)\n",
            "Requirement already satisfied: catalogue<2.1.0,>=2.0.6 in /usr/local/lib/python3.9/dist-packages (from spacy<3.6.0,>=3.5.0->en-core-web-lg==3.5.0) (2.0.8)\n",
            "Requirement already satisfied: setuptools in /usr/local/lib/python3.9/dist-packages (from spacy<3.6.0,>=3.5.0->en-core-web-lg==3.5.0) (67.6.1)\n",
            "Requirement already satisfied: murmurhash<1.1.0,>=0.28.0 in /usr/local/lib/python3.9/dist-packages (from spacy<3.6.0,>=3.5.0->en-core-web-lg==3.5.0) (1.0.9)\n",
            "Requirement already satisfied: cymem<2.1.0,>=2.0.2 in /usr/local/lib/python3.9/dist-packages (from spacy<3.6.0,>=3.5.0->en-core-web-lg==3.5.0) (2.0.7)\n",
            "Requirement already satisfied: packaging>=20.0 in /usr/local/lib/python3.9/dist-packages (from spacy<3.6.0,>=3.5.0->en-core-web-lg==3.5.0) (23.1)\n",
            "Requirement already satisfied: spacy-loggers<2.0.0,>=1.0.0 in /usr/local/lib/python3.9/dist-packages (from spacy<3.6.0,>=3.5.0->en-core-web-lg==3.5.0) (1.0.4)\n",
            "Requirement already satisfied: numpy>=1.15.0 in /usr/local/lib/python3.9/dist-packages (from spacy<3.6.0,>=3.5.0->en-core-web-lg==3.5.0) (1.22.4)\n",
            "Requirement already satisfied: smart-open<7.0.0,>=5.2.1 in /usr/local/lib/python3.9/dist-packages (from spacy<3.6.0,>=3.5.0->en-core-web-lg==3.5.0) (6.3.0)\n",
            "Requirement already satisfied: pydantic!=1.8,!=1.8.1,<1.11.0,>=1.7.4 in /usr/local/lib/python3.9/dist-packages (from spacy<3.6.0,>=3.5.0->en-core-web-lg==3.5.0) (1.10.7)\n",
            "Requirement already satisfied: srsly<3.0.0,>=2.4.3 in /usr/local/lib/python3.9/dist-packages (from spacy<3.6.0,>=3.5.0->en-core-web-lg==3.5.0) (2.4.6)\n",
            "Requirement already satisfied: preshed<3.1.0,>=3.0.2 in /usr/local/lib/python3.9/dist-packages (from spacy<3.6.0,>=3.5.0->en-core-web-lg==3.5.0) (3.0.8)\n",
            "Requirement already satisfied: spacy-legacy<3.1.0,>=3.0.11 in /usr/local/lib/python3.9/dist-packages (from spacy<3.6.0,>=3.5.0->en-core-web-lg==3.5.0) (3.0.12)\n",
            "Requirement already satisfied: wasabi<1.2.0,>=0.9.1 in /usr/local/lib/python3.9/dist-packages (from spacy<3.6.0,>=3.5.0->en-core-web-lg==3.5.0) (1.1.1)\n",
            "Requirement already satisfied: typer<0.8.0,>=0.3.0 in /usr/local/lib/python3.9/dist-packages (from spacy<3.6.0,>=3.5.0->en-core-web-lg==3.5.0) (0.7.0)\n",
            "Requirement already satisfied: typing-extensions>=4.2.0 in /usr/local/lib/python3.9/dist-packages (from pydantic!=1.8,!=1.8.1,<1.11.0,>=1.7.4->spacy<3.6.0,>=3.5.0->en-core-web-lg==3.5.0) (4.5.0)\n",
            "Requirement already satisfied: certifi>=2017.4.17 in /usr/local/lib/python3.9/dist-packages (from requests<3.0.0,>=2.13.0->spacy<3.6.0,>=3.5.0->en-core-web-lg==3.5.0) (2022.12.7)\n",
            "Requirement already satisfied: idna<4,>=2.5 in /usr/local/lib/python3.9/dist-packages (from requests<3.0.0,>=2.13.0->spacy<3.6.0,>=3.5.0->en-core-web-lg==3.5.0) (3.4)\n",
            "Requirement already satisfied: urllib3<1.27,>=1.21.1 in /usr/local/lib/python3.9/dist-packages (from requests<3.0.0,>=2.13.0->spacy<3.6.0,>=3.5.0->en-core-web-lg==3.5.0) (1.26.15)\n",
            "Requirement already satisfied: charset-normalizer~=2.0.0 in /usr/local/lib/python3.9/dist-packages (from requests<3.0.0,>=2.13.0->spacy<3.6.0,>=3.5.0->en-core-web-lg==3.5.0) (2.0.12)\n",
            "Requirement already satisfied: blis<0.8.0,>=0.7.8 in /usr/local/lib/python3.9/dist-packages (from thinc<8.2.0,>=8.1.8->spacy<3.6.0,>=3.5.0->en-core-web-lg==3.5.0) (0.7.9)\n",
            "Requirement already satisfied: confection<1.0.0,>=0.0.1 in /usr/local/lib/python3.9/dist-packages (from thinc<8.2.0,>=8.1.8->spacy<3.6.0,>=3.5.0->en-core-web-lg==3.5.0) (0.0.4)\n",
            "Requirement already satisfied: click<9.0.0,>=7.1.1 in /usr/local/lib/python3.9/dist-packages (from typer<0.8.0,>=0.3.0->spacy<3.6.0,>=3.5.0->en-core-web-lg==3.5.0) (8.1.3)\n",
            "Requirement already satisfied: MarkupSafe>=2.0 in /usr/local/lib/python3.9/dist-packages (from jinja2->spacy<3.6.0,>=3.5.0->en-core-web-lg==3.5.0) (2.1.2)\n",
            "Installing collected packages: en-core-web-lg\n",
            "Successfully installed en-core-web-lg-3.5.0\n",
            "\u001b[38;5;2m✔ Download and installation successful\u001b[0m\n",
            "You can now load the package via spacy.load('en_core_web_lg')\n"
          ]
        }
      ],
      "source": [
        "!python -m spacy download en_core_web_lg"
      ]
    },
    {
      "cell_type": "code",
      "execution_count": null,
      "metadata": {
        "id": "t-QC3uvC--1X"
      },
      "outputs": [],
      "source": [
        "import os\n",
        "os.chdir(\"/content/gdrive/MyDrive/Colab Notebooks/ProjectsExplotion/VCC_DATA/CustomNER\")"
      ]
    },
    {
      "cell_type": "code",
      "execution_count": null,
      "metadata": {
        "id": "8_EAPpQc_Ayv"
      },
      "outputs": [],
      "source": [
        "import json\n",
        "import spacy\n",
        "from spacy.util import filter_spans\n",
        "import requests\n",
        "from bs4 import BeautifulSoup\n",
        "from spacy.tokens import DocBin\n",
        "from tqdm import tqdm\n",
        "nlp = spacy.load(\"en_core_web_lg\")\n",
        "doc_bin = DocBin()"
      ]
    },
    {
      "cell_type": "code",
      "execution_count": null,
      "metadata": {
        "colab": {
          "base_uri": "https://localhost:8080/"
        },
        "id": "hvYnkA8Sbzmv",
        "outputId": "dba89442-0d46-4ad7-b556-d434479a7de4"
      },
      "outputs": [
        {
          "output_type": "stream",
          "name": "stdout",
          "text": [
            "2023-04-24 06:03:52.879825: W tensorflow/compiler/tf2tensorrt/utils/py_utils.cc:38] TF-TRT Warning: Could not find TensorRT\n",
            "\u001b[38;5;4mℹ Auto-detected token-per-line NER format\u001b[0m\n",
            "\u001b[38;5;3m⚠ Document delimiters found, automatic document segmentation with `-n`\n",
            "disabled.\u001b[0m\n",
            "\u001b[38;5;2m✔ Generated output file (1 documents): Train_IOB_40.json\u001b[0m\n",
            "2023-04-24 06:04:05.466302: W tensorflow/compiler/tf2tensorrt/utils/py_utils.cc:38] TF-TRT Warning: Could not find TensorRT\n",
            "\u001b[38;5;4mℹ Auto-detected token-per-line NER format\u001b[0m\n",
            "\u001b[38;5;3m⚠ Document delimiters found, automatic document segmentation with `-n`\n",
            "disabled.\u001b[0m\n",
            "\u001b[38;5;2m✔ Generated output file (1 documents): TestIOB35_IOB.json\u001b[0m\n"
          ]
        }
      ],
      "source": [
        "!python -m spacy convert Train_IOB_40.tsv ./ -t json -n 1 -c iob\n",
        "!python -m spacy convert TestIOB35_IOB.tsv ./ -t json -n 1 -c iob"
      ]
    },
    {
      "cell_type": "code",
      "execution_count": null,
      "metadata": {
        "colab": {
          "base_uri": "https://localhost:8080/"
        },
        "id": "mg58DbkXT77J",
        "outputId": "b44e35a0-ed1a-47cd-afc4-475d5a8de90c"
      },
      "outputs": [
        {
          "output_type": "stream",
          "name": "stdout",
          "text": [
            "2023-04-24 06:04:25.999593: W tensorflow/compiler/tf2tensorrt/utils/py_utils.cc:38] TF-TRT Warning: Could not find TensorRT\n",
            "\u001b[38;5;2m✔ Generated output file (1 documents): Train_IOB_40.spacy\u001b[0m\n",
            "2023-04-24 06:04:36.212155: W tensorflow/compiler/tf2tensorrt/utils/py_utils.cc:38] TF-TRT Warning: Could not find TensorRT\n",
            "\u001b[38;5;2m✔ Generated output file (1 documents): TestIOB35_IOB.spacy\u001b[0m\n"
          ]
        }
      ],
      "source": [
        "!python -m spacy convert Train_IOB_40.json ./ -t spacy \n",
        "!python -m spacy convert TestIOB35_IOB.json ./ -t spacy"
      ]
    },
    {
      "cell_type": "code",
      "execution_count": null,
      "metadata": {
        "colab": {
          "base_uri": "https://localhost:8080/"
        },
        "id": "VXEvoNUi0pFk",
        "outputId": "2b798b98-a800-43fb-a7c2-07e6d3e73f1e"
      },
      "outputs": [
        {
          "output_type": "stream",
          "name": "stdout",
          "text": [
            "2023-04-24 06:04:50.793611: W tensorflow/compiler/tf2tensorrt/utils/py_utils.cc:38] TF-TRT Warning: Could not find TensorRT\n",
            "\u001b[38;5;2m✔ Auto-filled config with all values\u001b[0m\n",
            "\u001b[38;5;2m✔ Saved config\u001b[0m\n",
            "config.cfg\n",
            "You can now add your data and train your pipeline:\n",
            "python -m spacy train config.cfg --paths.train ./train.spacy --paths.dev ./dev.spacy\n"
          ]
        }
      ],
      "source": [
        "!python -m spacy init fill-config base_config.cfg config.cfg"
      ]
    },
    {
      "cell_type": "code",
      "execution_count": null,
      "metadata": {
        "colab": {
          "base_uri": "https://localhost:8080/"
        },
        "id": "RD-aJorZbcJX",
        "outputId": "e97bb767-f95a-4db9-ff25-04a8c81de100"
      },
      "outputs": [
        {
          "output_type": "stream",
          "name": "stdout",
          "text": [
            "2023-04-24 06:09:13.486743: W tensorflow/compiler/tf2tensorrt/utils/py_utils.cc:38] TF-TRT Warning: Could not find TensorRT\n",
            "\u001b[38;5;4mℹ Saving to output directory: .\u001b[0m\n",
            "\u001b[38;5;4mℹ Using CPU\u001b[0m\n",
            "\u001b[1m\n",
            "=========================== Initializing pipeline ===========================\u001b[0m\n",
            "[2023-04-24 06:09:16,589] [INFO] Set up nlp object from config\n",
            "[2023-04-24 06:09:16,609] [INFO] Pipeline: ['tok2vec', 'ner']\n",
            "[2023-04-24 06:09:16,616] [INFO] Created vocabulary\n",
            "[2023-04-24 06:09:16,618] [INFO] Finished initializing nlp object\n",
            "[2023-04-24 06:09:21,708] [INFO] Initialized pipeline components: ['tok2vec', 'ner']\n",
            "\u001b[38;5;2m✔ Initialized pipeline\u001b[0m\n",
            "\u001b[1m\n",
            "============================= Training pipeline =============================\u001b[0m\n",
            "\u001b[38;5;4mℹ Pipeline: ['tok2vec', 'ner']\u001b[0m\n",
            "\u001b[38;5;4mℹ Initial learn rate: 0.001\u001b[0m\n",
            "E    #       LOSS TOK2VEC  LOSS NER  ENTS_F  ENTS_P  ENTS_R  SCORE \n",
            "---  ------  ------------  --------  ------  ------  ------  ------\n",
            "  0       0          0.00   9722.54    0.00    0.00    0.00    0.00\n",
            "200     200      15701.86  233373.20   23.81   38.46   17.24    0.24\n",
            "400     400        542.83    370.76   22.22   39.13   15.52    0.22\n",
            "600     600        501.81    199.40   23.08   45.00   15.52    0.23\n",
            "800     800       1521.26    933.66   21.05   44.44   13.79    0.21\n",
            "1000    1000        352.10     84.89   30.77   60.00   20.69    0.31\n",
            "1200    1200        547.38    113.81   22.22   57.14   13.79    0.22\n",
            "1400    1400        422.35     70.11   13.51   31.25    8.62    0.14\n",
            "1600    1600        380.93     42.07   13.70   33.33    8.62    0.14\n",
            "1800    1800        737.38     74.46   13.51   31.25    8.62    0.14\n",
            "2000    2000       1386.25    102.44   14.49   45.45    8.62    0.14\n",
            "2200    2200        700.74     69.54   11.59   36.36    6.90    0.12\n",
            "2400    2400        596.13     48.95    8.45   23.08    5.17    0.08\n",
            "2600    2600       1564.83    104.35   15.19   28.57   10.34    0.15\n",
            "\u001b[38;5;2m✔ Saved pipeline to output directory\u001b[0m\n",
            "model-last\n"
          ]
        }
      ],
      "source": [
        "!python -m spacy train config.cfg --output ./ --paths.train ./Train_IOB_40.spacy --paths.dev ./TestIOB.spacy"
      ]
    },
    {
      "cell_type": "code",
      "source": [
        "ls"
      ],
      "metadata": {
        "colab": {
          "base_uri": "https://localhost:8080/"
        },
        "id": "OJ92EwW732qR",
        "outputId": "68aeb5ca-7b61-498f-b3ef-b3f7854ebe2c"
      },
      "execution_count": null,
      "outputs": [
        {
          "output_type": "stream",
          "name": "stdout",
          "text": [
            "base_config.cfg      \u001b[0m\u001b[01;34mmodel-last\u001b[0m/          TestIOB.spacy       TrainIOB.json\n",
            "base_configMain.cfg  TestIOB35_IOB.json   TestIOB.tsv         TrainIOB.spacy\n",
            "config.cfg           TestIOB35_IOB.spacy  Train_IOB_40.json   TrainIOB.tsv\n",
            "configMain.cfg       TestIOB35_IOB.tsv    Train_IOB_40.spacy\n",
            "\u001b[01;34mmodel-best\u001b[0m/          TestIOB.json         Train_IOB_40.tsv\n"
          ]
        }
      ]
    },
    {
      "cell_type": "code",
      "execution_count": null,
      "metadata": {
        "colab": {
          "base_uri": "https://localhost:8080/"
        },
        "id": "ig69Kx3RIJR0",
        "outputId": "b8120f9c-2379-401f-8c46-5681de0a838d"
      },
      "outputs": [
        {
          "output_type": "stream",
          "name": "stdout",
          "text": [
            "2023-04-24 08:12:31.346061: W tensorflow/compiler/tf2tensorrt/utils/py_utils.cc:38] TF-TRT Warning: Could not find TensorRT\n",
            "\u001b[38;5;4mℹ Using CPU\u001b[0m\n",
            "\u001b[1m\n",
            "================================== Results ==================================\u001b[0m\n",
            "\n",
            "TOK     100.00\n",
            "NER P   60.00 \n",
            "NER R   20.69 \n",
            "NER F   30.77 \n",
            "SPEED   15118 \n",
            "\n",
            "\u001b[1m\n",
            "=============================== NER (per type) ===============================\u001b[0m\n",
            "\n",
            "                      P       R       F\n",
            "FUNDING_DATE       0.00    0.00    0.00\n",
            "FUNDING_AMOUNT    50.00   60.00   54.55\n",
            "FOUNDER_NAME     100.00   28.57   44.44\n",
            "INVESTOR_NAME     50.00    5.88   10.53\n",
            "STARTUP           75.00   24.00   36.36\n",
            "FOUNDED_DATE       0.00    0.00    0.00\n",
            "VALUATION          0.00    0.00    0.00\n",
            "\n"
          ]
        }
      ],
      "source": [
        "!spacy evaluate ./model-best ./TestIOB.spacy  "
      ]
    },
    {
      "cell_type": "code",
      "execution_count": null,
      "metadata": {
        "colab": {
          "base_uri": "https://localhost:8080/"
        },
        "id": "RYZ8e27GAMSR",
        "outputId": "8277b686-dac3-47c0-f0f7-4caae6c34ae3"
      },
      "outputs": [
        {
          "name": "stdout",
          "output_type": "stream",
          "text": [
            "base_config.cfg      \u001b[0m\u001b[01;34mmodel-last\u001b[0m/          TestIOB.spacy       TrainIOB.json\n",
            "base_configMain.cfg  TestIOB35_IOB.json   TestIOB.tsv         TrainIOB.spacy\n",
            "config.cfg           TestIOB35_IOB.spacy  Train_IOB_40.json   TrainIOB.tsv\n",
            "configMain.cfg       TestIOB35_IOB.tsv    Train_IOB_40.spacy\n",
            "\u001b[01;34mmodel-best\u001b[0m/          TestIOB.json         Train_IOB_40.tsv\n"
          ]
        }
      ],
      "source": [
        "ls"
      ]
    },
    {
      "cell_type": "code",
      "execution_count": null,
      "metadata": {
        "colab": {
          "base_uri": "https://localhost:8080/"
        },
        "id": "-PGvkbwOnMQv",
        "outputId": "e4889deb-70ac-4d27-dd69-63729a5461ea"
      },
      "outputs": [
        {
          "output_type": "stream",
          "name": "stdout",
          "text": [
            "Looking in indexes: https://pypi.org/simple, https://us-python.pkg.dev/colab-wheels/public/simple/\n",
            "Requirement already satisfied: requests in /usr/local/lib/python3.9/dist-packages (2.27.1)\n",
            "Requirement already satisfied: urllib3<1.27,>=1.21.1 in /usr/local/lib/python3.9/dist-packages (from requests) (1.26.15)\n",
            "Requirement already satisfied: idna<4,>=2.5 in /usr/local/lib/python3.9/dist-packages (from requests) (3.4)\n",
            "Requirement already satisfied: certifi>=2017.4.17 in /usr/local/lib/python3.9/dist-packages (from requests) (2022.12.7)\n",
            "Requirement already satisfied: charset-normalizer~=2.0.0 in /usr/local/lib/python3.9/dist-packages (from requests) (2.0.12)\n"
          ]
        }
      ],
      "source": [
        "pip install requests"
      ]
    },
    {
      "cell_type": "code",
      "execution_count": null,
      "metadata": {
        "id": "7rhekUftEnb5"
      },
      "outputs": [],
      "source": [
        "import os\n",
        "import requests\n",
        "from bs4 import BeautifulSoup \n",
        "os.chdir(\"/content/gdrive/MyDrive/Colab Notebooks/ProjectsExplotion/VCC_DATA/CustomNER\")\n",
        "url = \"https://www.vccircle.com//temasek-sequoia-others-invest-226-mn-in-fashion-startup-zilingo\"\n",
        "colors = {\"STARTUP\": \"#F67DE3\", \"VALUATION\": \"#7DF6D9\", \"VC FIRM\":\"#0B5DF0\", \"FUNDING AMOUNT\": \"#0BF02E\"}\n",
        "options = {\"colors\": colors} \n",
        "\n",
        "\n",
        "article_page = requests.get(url)\n",
        "\n",
        "soup = BeautifulSoup(article_page.content, \"html.parser\")\n",
        "\n",
        "article_element = soup.find(\"div\", class_ = \"articleDetail_article-content__GPSys\")\n",
        "date_element = soup.find(\"ul\", class_ = \"articleDetail_date__MgWtb\")\n",
        "\n",
        "all_paragraphs = article_element.find_all(\"p\")\n",
        "\n",
        "c = list()\n",
        "news=list()\n",
        "for paragraph in all_paragraphs:\n",
        "    news.append(paragraph.text)"
      ]
    },
    {
      "cell_type": "code",
      "execution_count": null,
      "metadata": {
        "colab": {
          "base_uri": "https://localhost:8080/"
        },
        "id": "cvO8i-hwwcC-",
        "outputId": "619286ed-8ce4-43ba-adf2-7dc5e3c9e745"
      },
      "outputs": [
        {
          "output_type": "stream",
          "name": "stdout",
          "text": [
            "['Southeast Asian fashion startup Zilingo said it has raised $226 million in its latest funding round from existing backers such as venture capital firm Sequoia Capital, with Singapore’s Temasek Holdings joining as a new investor.', 'The Series D financing follows a $54 million fundraising last year, taking the total capital raised by the company to $308 million. The company declined to provide valuation.', 'The latest round included Singapore investment fund EDBI and previous investors Burda Principal Investments, a division of Germany’s Hubert Burda Media, and Belgian investment firm Sofina, Zilingo said in a statement on Tuesday.', 'The Singapore-headquartered company plans to use the funds to invest in infrastructure and technology to further integrate and digitize the fashion and beauty supply chain, it said.', 'Zilingo, whose main market for the consumer business is Indonesia, is expanding in countries such as Australia in 2019.', 'The company, which started as a fashion marketplace, has been rapidly growing its business-to-business (B2B) tools and platforms, which include providing value-added services to its merchants as well as a marketplace to help them source efficiently from manufacturers.', 'The company, which also acts as an affiliate for companies to provide financing to small firms on its platform, is now earning the bulk of its revenue from its B2B business.', 'Zilingo has grown its revenues by four times in the last 12 months, it said, but did not provide specific numbers.', '“We are pretty close to profitability and have a clear path to it,” Ankiti Bose, the company’s co-founder and CEO, told Reuters. Bose founded the company in 2015 with Dhruv Kapoor, its chief technology officer.', 'In Southeast Asia, local fashion e-commerce players such as Zalora, ‘Love, Bonito’ and JD.com-backed fashion retailer Pomelo compete with global platforms like ASOS. A study by Google and Temasek has forecast that e-commerce in Southeast Asia will exceed $100 billion in gross merchandise value by 2025 from over $23 billion in 2018.', 'Bose said purely selling to consumers would mean that the only way to win is through price wars and discounting.', '“Instead what we are trying to do is trying to lower the cost of procurement for these merchants and add services on that layer there, which is basically before it even gets to the merchant and they try to sell it online,” she added.', 'Share article on']\n"
          ]
        }
      ],
      "source": [
        "print(news)"
      ]
    },
    {
      "cell_type": "code",
      "execution_count": null,
      "metadata": {
        "colab": {
          "base_uri": "https://localhost:8080/",
          "height": 667
        },
        "id": "JId83KCsFP_7",
        "outputId": "d5088798-7289-4bad-8604-b5f01c6da7bd"
      },
      "outputs": [
        {
          "output_type": "display_data",
          "data": {
            "text/plain": [
              "<IPython.core.display.HTML object>"
            ],
            "text/html": [
              "<span class=\"tex2jax_ignore\"><div class=\"entities\" style=\"line-height: 2.5; direction: ltr\">Southeast Asian fashion startup Zilingo said it has raised \n",
              "<mark class=\"entity\" style=\"background: #ddd; padding: 0.45em 0.6em; margin: 0 0.25em; line-height: 1; border-radius: 0.35em;\">\n",
              "    $226 million\n",
              "    <span style=\"font-size: 0.8em; font-weight: bold; line-height: 1; border-radius: 0.35em; vertical-align: middle; margin-left: 0.5rem\">FUNDING_AMOUNT</span>\n",
              "</mark>\n",
              " in its latest funding round from existing backers such as venture capital firm Sequoia Capital, with Singapore’s \n",
              "<mark class=\"entity\" style=\"background: #ddd; padding: 0.45em 0.6em; margin: 0 0.25em; line-height: 1; border-radius: 0.35em;\">\n",
              "    Temasek Holdings\n",
              "    <span style=\"font-size: 0.8em; font-weight: bold; line-height: 1; border-radius: 0.35em; vertical-align: middle; margin-left: 0.5rem\">INVESTOR_NAME</span>\n",
              "</mark>\n",
              " joining as a new investor.</div></span>"
            ]
          },
          "metadata": {}
        },
        {
          "output_type": "stream",
          "name": "stderr",
          "text": [
            "/usr/local/lib/python3.9/dist-packages/spacy/displacy/__init__.py:215: UserWarning: [W006] No entities to visualize found in Doc object. If this is surprising to you, make sure the Doc was processed using a model that supports named entity recognition, and check the `doc.ents` property manually if necessary.\n",
            "  warnings.warn(Warnings.W006)\n"
          ]
        },
        {
          "output_type": "display_data",
          "data": {
            "text/plain": [
              "<IPython.core.display.HTML object>"
            ],
            "text/html": [
              "<span class=\"tex2jax_ignore\"><div class=\"entities\" style=\"line-height: 2.5; direction: ltr\">The Series D financing follows a $54 million fundraising last year, taking the total capital raised by the company to $308 million. The company declined to provide valuation.</div></span>"
            ]
          },
          "metadata": {}
        },
        {
          "output_type": "display_data",
          "data": {
            "text/plain": [
              "<IPython.core.display.HTML object>"
            ],
            "text/html": [
              "<span class=\"tex2jax_ignore\"><div class=\"entities\" style=\"line-height: 2.5; direction: ltr\">The latest round included Singapore investment fund EDBI and previous investors \n",
              "<mark class=\"entity\" style=\"background: #ddd; padding: 0.45em 0.6em; margin: 0 0.25em; line-height: 1; border-radius: 0.35em;\">\n",
              "    Burda Principal Investments\n",
              "    <span style=\"font-size: 0.8em; font-weight: bold; line-height: 1; border-radius: 0.35em; vertical-align: middle; margin-left: 0.5rem\">INVESTOR_NAME</span>\n",
              "</mark>\n",
              ", a division of Germany’s Hubert Burda Media, and Belgian investment firm Sofina, Zilingo said in a statement on Tuesday.</div></span>"
            ]
          },
          "metadata": {}
        },
        {
          "output_type": "display_data",
          "data": {
            "text/plain": [
              "<IPython.core.display.HTML object>"
            ],
            "text/html": [
              "<span class=\"tex2jax_ignore\"><div class=\"entities\" style=\"line-height: 2.5; direction: ltr\">The Singapore-headquartered company plans to use the funds to invest in infrastructure and technology to further integrate and digitize the fashion and beauty supply chain, it said.</div></span>"
            ]
          },
          "metadata": {}
        },
        {
          "output_type": "display_data",
          "data": {
            "text/plain": [
              "<IPython.core.display.HTML object>"
            ],
            "text/html": [
              "<span class=\"tex2jax_ignore\"><div class=\"entities\" style=\"line-height: 2.5; direction: ltr\">Zilingo, whose main market for the consumer business is Indonesia, is expanding in countries such as Australia in 2019.</div></span>"
            ]
          },
          "metadata": {}
        },
        {
          "output_type": "display_data",
          "data": {
            "text/plain": [
              "<IPython.core.display.HTML object>"
            ],
            "text/html": [
              "<span class=\"tex2jax_ignore\"><div class=\"entities\" style=\"line-height: 2.5; direction: ltr\">The company, which started as a fashion marketplace, has been rapidly growing its business-to-business (B2B) tools and platforms, which include providing value-added services to its merchants as well as a marketplace to help them source efficiently from manufacturers.</div></span>"
            ]
          },
          "metadata": {}
        },
        {
          "output_type": "display_data",
          "data": {
            "text/plain": [
              "<IPython.core.display.HTML object>"
            ],
            "text/html": [
              "<span class=\"tex2jax_ignore\"><div class=\"entities\" style=\"line-height: 2.5; direction: ltr\">The company, which also acts as an affiliate for companies to provide financing to small firms on its platform, is now earning the bulk of its revenue from its B2B business.</div></span>"
            ]
          },
          "metadata": {}
        },
        {
          "output_type": "display_data",
          "data": {
            "text/plain": [
              "<IPython.core.display.HTML object>"
            ],
            "text/html": [
              "<span class=\"tex2jax_ignore\"><div class=\"entities\" style=\"line-height: 2.5; direction: ltr\">Zilingo has grown its revenues by four times in the last 12 months, it said, but did not provide specific numbers.</div></span>"
            ]
          },
          "metadata": {}
        },
        {
          "output_type": "display_data",
          "data": {
            "text/plain": [
              "<IPython.core.display.HTML object>"
            ],
            "text/html": [
              "<span class=\"tex2jax_ignore\"><div class=\"entities\" style=\"line-height: 2.5; direction: ltr\">“We are pretty close to profitability and have a clear path to it,” Ankiti Bose, the company’s co-founder and CEO, told Reuters. Bose founded the company in 2015 with Dhruv Kapoor, its chief technology officer.</div></span>"
            ]
          },
          "metadata": {}
        },
        {
          "output_type": "display_data",
          "data": {
            "text/plain": [
              "<IPython.core.display.HTML object>"
            ],
            "text/html": [
              "<span class=\"tex2jax_ignore\"><div class=\"entities\" style=\"line-height: 2.5; direction: ltr\">In Southeast Asia, local fashion e-commerce players such as Zalora, ‘Love, Bonito’ and JD.com-backed fashion retailer Pomelo compete with global platforms like ASOS. A study by Google and Temasek has forecast that e-commerce in Southeast Asia will exceed $100 billion in gross merchandise value by 2025 from over \n",
              "<mark class=\"entity\" style=\"background: #ddd; padding: 0.45em 0.6em; margin: 0 0.25em; line-height: 1; border-radius: 0.35em;\">\n",
              "    $23 billion\n",
              "    <span style=\"font-size: 0.8em; font-weight: bold; line-height: 1; border-radius: 0.35em; vertical-align: middle; margin-left: 0.5rem\">FUNDING_AMOUNT</span>\n",
              "</mark>\n",
              " in 2018.</div></span>"
            ]
          },
          "metadata": {}
        },
        {
          "output_type": "display_data",
          "data": {
            "text/plain": [
              "<IPython.core.display.HTML object>"
            ],
            "text/html": [
              "<span class=\"tex2jax_ignore\"><div class=\"entities\" style=\"line-height: 2.5; direction: ltr\">Bose said purely selling to consumers would mean that the only way to win is through price wars and discounting.</div></span>"
            ]
          },
          "metadata": {}
        },
        {
          "output_type": "display_data",
          "data": {
            "text/plain": [
              "<IPython.core.display.HTML object>"
            ],
            "text/html": [
              "<span class=\"tex2jax_ignore\"><div class=\"entities\" style=\"line-height: 2.5; direction: ltr\">“Instead what we are trying to do is trying to lower the cost of procurement for these merchants and add services on that layer there, which is basically before it even gets to the merchant and they try to sell it online,” she added.</div></span>"
            ]
          },
          "metadata": {}
        },
        {
          "output_type": "display_data",
          "data": {
            "text/plain": [
              "<IPython.core.display.HTML object>"
            ],
            "text/html": [
              "<span class=\"tex2jax_ignore\"><div class=\"entities\" style=\"line-height: 2.5; direction: ltr\">Share article on</div></span>"
            ]
          },
          "metadata": {}
        }
      ],
      "source": [
        "import spacy\n",
        "nlp = spacy.load(\"model-best\")\n",
        "nlp.add_pipe('sentencizer')\n",
        "for paragraph in news:     \n",
        "    data = nlp(paragraph)        \n",
        "    spacy.displacy.render(data, style=\"ent\", options=options, jupyter=True)\n",
        "      "
      ]
    },
    {
      "cell_type": "code",
      "execution_count": null,
      "metadata": {
        "colab": {
          "base_uri": "https://localhost:8080/"
        },
        "id": "ZTkOg23mTydC",
        "outputId": "6ac80b3e-8c37-4d98-aa05-e0e465628713"
      },
      "outputs": [
        {
          "output_type": "stream",
          "name": "stdout",
          "text": [
            "spans: [(9, '$226 million', 'FUNDING_AMOUNT'), (31, 'Temasek Holdings', 'INVESTOR_NAME')]\n",
            "spans: []\n",
            "spans: [(11, 'Burda Principal Investments', 'INVESTOR_NAME')]\n",
            "spans: []\n",
            "spans: []\n",
            "spans: []\n",
            "spans: []\n",
            "spans: []\n",
            "spans: []\n",
            "spans: [(61, '$23 billion', 'FUNDING_AMOUNT')]\n",
            "spans: []\n",
            "spans: []\n",
            "spans: []\n"
          ]
        }
      ],
      "source": [
        "import spacy\n",
        "nlp = spacy.load(\"model-best\")\n",
        "nlp.add_pipe('sentencizer')\n",
        "Text=news\n",
        "for doc in nlp.pipe(Text, disable=[\"tagger\"]):\n",
        "   print(f\"spans: {[(e.start, e.text, e.label_) for e in doc.ents]}\")\n",
        "\n"
      ]
    },
    {
      "cell_type": "code",
      "execution_count": null,
      "metadata": {
        "id": "EA3I_OjLHkdH"
      },
      "outputs": [],
      "source": [
        "doc[0].is_sent_start = True"
      ]
    },
    {
      "cell_type": "code",
      "execution_count": null,
      "metadata": {
        "id": "GpdSqtS2aYTN"
      },
      "outputs": [],
      "source": [
        "#############<=========Relationship Extraction Model====================>##############################"
      ]
    },
    {
      "cell_type": "code",
      "execution_count": null,
      "metadata": {
        "colab": {
          "base_uri": "https://localhost:8080/"
        },
        "id": "8rCW5YKPad41",
        "outputId": "c9d0beac-9c3e-463a-cc03-b39759e4f134"
      },
      "outputs": [
        {
          "output_type": "stream",
          "name": "stdout",
          "text": [
            "Looking in indexes: https://pypi.org/simple, https://us-python.pkg.dev/colab-wheels/public/simple/\n",
            "Collecting spacy-nightly\n",
            "  Downloading spacy_nightly-3.0.0rc5-cp39-cp39-manylinux2014_x86_64.whl (12.5 MB)\n",
            "\u001b[2K     \u001b[90m━━━━━━━━━━━━━━━━━━━━━━━━━━━━━━━━━━━━━━━━\u001b[0m \u001b[32m12.5/12.5 MB\u001b[0m \u001b[31m6.0 MB/s\u001b[0m eta \u001b[36m0:00:00\u001b[0m\n",
            "\u001b[?25hRequirement already satisfied: numpy>=1.15.0 in /usr/local/lib/python3.9/dist-packages (from spacy-nightly) (1.22.4)\n",
            "Requirement already satisfied: setuptools in /usr/local/lib/python3.9/dist-packages (from spacy-nightly) (67.6.1)\n",
            "Collecting wasabi<1.1.0,>=0.8.1\n",
            "  Downloading wasabi-0.10.1-py3-none-any.whl (26 kB)\n",
            "Requirement already satisfied: tqdm<5.0.0,>=4.38.0 in /usr/local/lib/python3.9/dist-packages (from spacy-nightly) (4.65.0)\n",
            "Requirement already satisfied: jinja2 in /usr/local/lib/python3.9/dist-packages (from spacy-nightly) (3.1.2)\n",
            "Requirement already satisfied: cymem<2.1.0,>=2.0.2 in /usr/local/lib/python3.9/dist-packages (from spacy-nightly) (2.0.7)\n",
            "Requirement already satisfied: srsly<3.0.0,>=2.3.0 in /usr/local/lib/python3.9/dist-packages (from spacy-nightly) (2.4.6)\n",
            "Collecting thinc<8.1.0,>=8.0.0\n",
            "  Downloading thinc-8.0.17-cp39-cp39-manylinux_2_17_x86_64.manylinux2014_x86_64.whl (668 kB)\n",
            "\u001b[2K     \u001b[90m━━━━━━━━━━━━━━━━━━━━━━━━━━━━━━━━━━━━━━\u001b[0m \u001b[32m668.8/668.8 kB\u001b[0m \u001b[31m43.9 MB/s\u001b[0m eta \u001b[36m0:00:00\u001b[0m\n",
            "\u001b[?25hCollecting typer<0.4.0,>=0.3.0\n",
            "  Downloading typer-0.3.2-py3-none-any.whl (21 kB)\n",
            "Requirement already satisfied: blis<0.8.0,>=0.4.0 in /usr/local/lib/python3.9/dist-packages (from spacy-nightly) (0.7.9)\n",
            "Collecting pydantic<1.8.0,>=1.7.1\n",
            "  Downloading pydantic-1.7.4-cp39-cp39-manylinux2014_x86_64.whl (10.3 MB)\n",
            "\u001b[2K     \u001b[90m━━━━━━━━━━━━━━━━━━━━━━━━━━━━━━━━━━━━━━━━\u001b[0m \u001b[32m10.3/10.3 MB\u001b[0m \u001b[31m65.4 MB/s\u001b[0m eta \u001b[36m0:00:00\u001b[0m\n",
            "\u001b[?25hRequirement already satisfied: catalogue<2.1.0,>=2.0.1 in /usr/local/lib/python3.9/dist-packages (from spacy-nightly) (2.0.8)\n",
            "Requirement already satisfied: packaging>=20.0 in /usr/local/lib/python3.9/dist-packages (from spacy-nightly) (23.1)\n",
            "Requirement already satisfied: requests<3.0.0,>=2.13.0 in /usr/local/lib/python3.9/dist-packages (from spacy-nightly) (2.27.1)\n",
            "Requirement already satisfied: pathy in /usr/local/lib/python3.9/dist-packages (from spacy-nightly) (0.10.1)\n",
            "Requirement already satisfied: preshed<3.1.0,>=3.0.2 in /usr/local/lib/python3.9/dist-packages (from spacy-nightly) (3.0.8)\n",
            "Requirement already satisfied: murmurhash<1.1.0,>=0.28.0 in /usr/local/lib/python3.9/dist-packages (from spacy-nightly) (1.0.9)\n",
            "Requirement already satisfied: spacy-legacy<3.1.0,>=3.0.0.dev0 in /usr/local/lib/python3.9/dist-packages (from spacy-nightly) (3.0.12)\n",
            "Requirement already satisfied: idna<4,>=2.5 in /usr/local/lib/python3.9/dist-packages (from requests<3.0.0,>=2.13.0->spacy-nightly) (3.4)\n",
            "Requirement already satisfied: certifi>=2017.4.17 in /usr/local/lib/python3.9/dist-packages (from requests<3.0.0,>=2.13.0->spacy-nightly) (2022.12.7)\n",
            "Requirement already satisfied: charset-normalizer~=2.0.0 in /usr/local/lib/python3.9/dist-packages (from requests<3.0.0,>=2.13.0->spacy-nightly) (2.0.12)\n",
            "Requirement already satisfied: urllib3<1.27,>=1.21.1 in /usr/local/lib/python3.9/dist-packages (from requests<3.0.0,>=2.13.0->spacy-nightly) (1.26.15)\n",
            "Collecting click<7.2.0,>=7.1.1\n",
            "  Downloading click-7.1.2-py2.py3-none-any.whl (82 kB)\n",
            "\u001b[2K     \u001b[90m━━━━━━━━━━━━━━━━━━━━━━━━━━━━━━━━━━━━━━━━\u001b[0m \u001b[32m82.8/82.8 kB\u001b[0m \u001b[31m8.8 MB/s\u001b[0m eta \u001b[36m0:00:00\u001b[0m\n",
            "\u001b[?25hRequirement already satisfied: MarkupSafe>=2.0 in /usr/local/lib/python3.9/dist-packages (from jinja2->spacy-nightly) (2.1.2)\n",
            "Requirement already satisfied: smart-open<7.0.0,>=5.2.1 in /usr/local/lib/python3.9/dist-packages (from pathy->spacy-nightly) (6.3.0)\n",
            "Installing collected packages: wasabi, pydantic, click, typer, thinc, spacy-nightly\n",
            "  Attempting uninstall: wasabi\n",
            "    Found existing installation: wasabi 1.1.1\n",
            "    Uninstalling wasabi-1.1.1:\n",
            "      Successfully uninstalled wasabi-1.1.1\n",
            "  Attempting uninstall: pydantic\n",
            "    Found existing installation: pydantic 1.10.7\n",
            "    Uninstalling pydantic-1.10.7:\n",
            "      Successfully uninstalled pydantic-1.10.7\n",
            "  Attempting uninstall: click\n",
            "    Found existing installation: click 8.1.3\n",
            "    Uninstalling click-8.1.3:\n",
            "      Successfully uninstalled click-8.1.3\n",
            "  Attempting uninstall: typer\n",
            "    Found existing installation: typer 0.7.0\n",
            "    Uninstalling typer-0.7.0:\n",
            "      Successfully uninstalled typer-0.7.0\n",
            "  Attempting uninstall: thinc\n",
            "    Found existing installation: thinc 8.1.9\n",
            "    Uninstalling thinc-8.1.9:\n",
            "      Successfully uninstalled thinc-8.1.9\n",
            "\u001b[31mERROR: pip's dependency resolver does not currently take into account all the packages that are installed. This behaviour is the source of the following dependency conflicts.\n",
            "spacy 3.5.2 requires thinc<8.2.0,>=8.1.8, but you have thinc 8.0.17 which is incompatible.\n",
            "inflect 6.0.4 requires pydantic>=1.9.1, but you have pydantic 1.7.4 which is incompatible.\n",
            "flask 2.2.3 requires click>=8.0, but you have click 7.1.2 which is incompatible.\u001b[0m\u001b[31m\n",
            "\u001b[0mSuccessfully installed click-7.1.2 pydantic-1.7.4 spacy-nightly-3.0.0rc5 thinc-8.0.17 typer-0.3.2 wasabi-0.10.1\n"
          ]
        }
      ],
      "source": [
        "!pip install -U spacy-nightly --pre"
      ]
    },
    {
      "cell_type": "code",
      "execution_count": null,
      "metadata": {
        "colab": {
          "base_uri": "https://localhost:8080/"
        },
        "id": "VvHmate5ag2l",
        "outputId": "91331426-a4ac-487f-fdd1-cb33385c6bca"
      },
      "outputs": [
        {
          "output_type": "stream",
          "name": "stdout",
          "text": [
            "2023-04-24 08:14:01.334480: W tensorflow/compiler/tf2tensorrt/utils/py_utils.cc:38] TF-TRT Warning: Could not find TensorRT\n",
            "<frozen importlib._bootstrap>:228: RuntimeWarning: spacy.morphology.Morphology size changed, may indicate binary incompatibility. Expected 48 from C header, got 104 from PyObject\n",
            "\u001b[33mDEPRECATION: https://github.com/explosion/spacy-models/releases/download/en_core_web_trf-3.0.0/en_core_web_trf-3.0.0.tar.gz#egg=en_core_web_trf==3.0.0 contains an egg fragment with a non-PEP 508 name pip 25.0 will enforce this behaviour change. A possible replacement is to use the req @ url syntax, and remove the egg fragment. Discussion can be found at https://github.com/pypa/pip/issues/11617\u001b[0m\u001b[33m\n",
            "\u001b[0mLooking in indexes: https://pypi.org/simple, https://us-python.pkg.dev/colab-wheels/public/simple/\n",
            "Collecting en_core_web_trf==3.0.0\n",
            "  Downloading https://github.com/explosion/spacy-models/releases/download/en_core_web_trf-3.0.0/en_core_web_trf-3.0.0.tar.gz (459.7 MB)\n",
            "\u001b[2K     \u001b[90m━━━━━━━━━━━━━━━━━━━━━━━━━━━━━━━━━━━━━━\u001b[0m \u001b[32m459.7/459.7 MB\u001b[0m \u001b[31m84.2 MB/s\u001b[0m eta \u001b[36m0:00:00\u001b[0m\n",
            "\u001b[?25h  Preparing metadata (setup.py) ... \u001b[?25l\u001b[?25hdone\n",
            "Collecting spacy<3.1.0,>=3.0.0\n",
            "  Downloading spacy-3.0.9-cp39-cp39-manylinux_2_17_x86_64.manylinux2014_x86_64.whl (5.9 MB)\n",
            "\u001b[2K     \u001b[90m━━━━━━━━━━━━━━━━━━━━━━━━━━━━━━━━━━━━━━━━\u001b[0m \u001b[32m5.9/5.9 MB\u001b[0m \u001b[31m104.1 MB/s\u001b[0m eta \u001b[36m0:00:00\u001b[0m\n",
            "\u001b[?25hCollecting spacy-transformers<1.1.0,>=1.0.0rc4\n",
            "  Downloading spacy_transformers-1.0.6-py2.py3-none-any.whl (42 kB)\n",
            "\u001b[2K     \u001b[90m━━━━━━━━━━━━━━━━━━━━━━━━━━━━━━━━━━━━━━━\u001b[0m \u001b[32m42.6/42.6 kB\u001b[0m \u001b[31m149.8 MB/s\u001b[0m eta \u001b[36m0:00:00\u001b[0m\n",
            "\u001b[?25hRequirement already satisfied: typer<0.4.0,>=0.3.0 in /usr/local/lib/python3.9/dist-packages (from spacy<3.1.0,>=3.0.0->en_core_web_trf==3.0.0) (0.3.2)\n",
            "Requirement already satisfied: cymem<2.1.0,>=2.0.2 in /usr/local/lib/python3.9/dist-packages (from spacy<3.1.0,>=3.0.0->en_core_web_trf==3.0.0) (2.0.7)\n",
            "Requirement already satisfied: murmurhash<1.1.0,>=0.28.0 in /usr/local/lib/python3.9/dist-packages (from spacy<3.1.0,>=3.0.0->en_core_web_trf==3.0.0) (1.0.9)\n",
            "Requirement already satisfied: srsly<3.0.0,>=2.4.1 in /usr/local/lib/python3.9/dist-packages (from spacy<3.1.0,>=3.0.0->en_core_web_trf==3.0.0) (2.4.6)\n",
            "Requirement already satisfied: setuptools in /usr/local/lib/python3.9/dist-packages (from spacy<3.1.0,>=3.0.0->en_core_web_trf==3.0.0) (67.6.1)\n",
            "Requirement already satisfied: wasabi<1.1.0,>=0.8.1 in /usr/local/lib/python3.9/dist-packages (from spacy<3.1.0,>=3.0.0->en_core_web_trf==3.0.0) (0.10.1)\n",
            "Requirement already satisfied: tqdm<5.0.0,>=4.38.0 in /usr/local/lib/python3.9/dist-packages (from spacy<3.1.0,>=3.0.0->en_core_web_trf==3.0.0) (4.65.0)\n",
            "Requirement already satisfied: catalogue<2.1.0,>=2.0.4 in /usr/local/lib/python3.9/dist-packages (from spacy<3.1.0,>=3.0.0->en_core_web_trf==3.0.0) (2.0.8)\n",
            "Requirement already satisfied: smart-open<7.0.0,>=5.2.1 in /usr/local/lib/python3.9/dist-packages (from spacy<3.1.0,>=3.0.0->en_core_web_trf==3.0.0) (6.3.0)\n",
            "Requirement already satisfied: thinc<8.1.0,>=8.0.3 in /usr/local/lib/python3.9/dist-packages (from spacy<3.1.0,>=3.0.0->en_core_web_trf==3.0.0) (8.0.17)\n",
            "Requirement already satisfied: spacy-legacy<3.1.0,>=3.0.5 in /usr/local/lib/python3.9/dist-packages (from spacy<3.1.0,>=3.0.0->en_core_web_trf==3.0.0) (3.0.12)\n",
            "Requirement already satisfied: requests<3.0.0,>=2.13.0 in /usr/local/lib/python3.9/dist-packages (from spacy<3.1.0,>=3.0.0->en_core_web_trf==3.0.0) (2.27.1)\n",
            "Requirement already satisfied: pathy>=0.3.5 in /usr/local/lib/python3.9/dist-packages (from spacy<3.1.0,>=3.0.0->en_core_web_trf==3.0.0) (0.10.1)\n",
            "Requirement already satisfied: blis<0.8.0,>=0.4.0 in /usr/local/lib/python3.9/dist-packages (from spacy<3.1.0,>=3.0.0->en_core_web_trf==3.0.0) (0.7.9)\n",
            "Requirement already satisfied: preshed<3.1.0,>=3.0.2 in /usr/local/lib/python3.9/dist-packages (from spacy<3.1.0,>=3.0.0->en_core_web_trf==3.0.0) (3.0.8)\n",
            "Requirement already satisfied: jinja2 in /usr/local/lib/python3.9/dist-packages (from spacy<3.1.0,>=3.0.0->en_core_web_trf==3.0.0) (3.1.2)\n",
            "Requirement already satisfied: numpy>=1.15.0 in /usr/local/lib/python3.9/dist-packages (from spacy<3.1.0,>=3.0.0->en_core_web_trf==3.0.0) (1.22.4)\n",
            "Requirement already satisfied: packaging>=20.0 in /usr/local/lib/python3.9/dist-packages (from spacy<3.1.0,>=3.0.0->en_core_web_trf==3.0.0) (23.1)\n",
            "Requirement already satisfied: pydantic!=1.8,!=1.8.1,<1.9.0,>=1.7.4 in /usr/local/lib/python3.9/dist-packages (from spacy<3.1.0,>=3.0.0->en_core_web_trf==3.0.0) (1.7.4)\n",
            "Requirement already satisfied: torch>=1.5.0 in /usr/local/lib/python3.9/dist-packages (from spacy-transformers<1.1.0,>=1.0.0rc4->en_core_web_trf==3.0.0) (2.0.0+cu118)\n",
            "Collecting transformers<4.10.0,>=3.4.0\n",
            "  Downloading transformers-4.9.2-py3-none-any.whl (2.6 MB)\n",
            "\u001b[2K     \u001b[90m━━━━━━━━━━━━━━━━━━━━━━━━━━━━━━━━━━━━━━━━\u001b[0m \u001b[32m2.6/2.6 MB\u001b[0m \u001b[31m174.3 MB/s\u001b[0m eta \u001b[36m0:00:00\u001b[0m\n",
            "\u001b[?25hCollecting spacy-transformers<1.1.0,>=1.0.0rc4\n",
            "  Downloading spacy_transformers-1.0.5-py2.py3-none-any.whl (42 kB)\n",
            "\u001b[2K     \u001b[90m━━━━━━━━━━━━━━━━━━━━━━━━━━━━━━━━━━━━━━━\u001b[0m \u001b[32m42.6/42.6 kB\u001b[0m \u001b[31m160.1 MB/s\u001b[0m eta \u001b[36m0:00:00\u001b[0m\n",
            "\u001b[?25h  Downloading spacy_transformers-1.0.4-py2.py3-none-any.whl (40 kB)\n",
            "\u001b[2K     \u001b[90m━━━━━━━━━━━━━━━━━━━━━━━━━━━━━━━━━━━━━━━\u001b[0m \u001b[32m40.1/40.1 kB\u001b[0m \u001b[31m148.0 MB/s\u001b[0m eta \u001b[36m0:00:00\u001b[0m\n",
            "\u001b[?25hCollecting spacy-alignments<1.0.0,>=0.7.2\n",
            "  Downloading spacy_alignments-0.9.0-cp39-cp39-manylinux_2_17_x86_64.manylinux2014_x86_64.whl (1.2 MB)\n",
            "\u001b[2K     \u001b[90m━━━━━━━━━━━━━━━━━━━━━━━━━━━━━━━━━━━━━━━━\u001b[0m \u001b[32m1.2/1.2 MB\u001b[0m \u001b[31m188.6 MB/s\u001b[0m eta \u001b[36m0:00:00\u001b[0m\n",
            "\u001b[?25hRequirement already satisfied: urllib3<1.27,>=1.21.1 in /usr/local/lib/python3.9/dist-packages (from requests<3.0.0,>=2.13.0->spacy<3.1.0,>=3.0.0->en_core_web_trf==3.0.0) (1.26.15)\n",
            "Requirement already satisfied: idna<4,>=2.5 in /usr/local/lib/python3.9/dist-packages (from requests<3.0.0,>=2.13.0->spacy<3.1.0,>=3.0.0->en_core_web_trf==3.0.0) (3.4)\n",
            "Requirement already satisfied: certifi>=2017.4.17 in /usr/local/lib/python3.9/dist-packages (from requests<3.0.0,>=2.13.0->spacy<3.1.0,>=3.0.0->en_core_web_trf==3.0.0) (2022.12.7)\n",
            "Requirement already satisfied: charset-normalizer~=2.0.0 in /usr/local/lib/python3.9/dist-packages (from requests<3.0.0,>=2.13.0->spacy<3.1.0,>=3.0.0->en_core_web_trf==3.0.0) (2.0.12)\n",
            "Requirement already satisfied: triton==2.0.0 in /usr/local/lib/python3.9/dist-packages (from torch>=1.5.0->spacy-transformers<1.1.0,>=1.0.0rc4->en_core_web_trf==3.0.0) (2.0.0)\n",
            "Requirement already satisfied: networkx in /usr/local/lib/python3.9/dist-packages (from torch>=1.5.0->spacy-transformers<1.1.0,>=1.0.0rc4->en_core_web_trf==3.0.0) (3.1)\n",
            "Requirement already satisfied: sympy in /usr/local/lib/python3.9/dist-packages (from torch>=1.5.0->spacy-transformers<1.1.0,>=1.0.0rc4->en_core_web_trf==3.0.0) (1.11.1)\n",
            "Requirement already satisfied: filelock in /usr/local/lib/python3.9/dist-packages (from torch>=1.5.0->spacy-transformers<1.1.0,>=1.0.0rc4->en_core_web_trf==3.0.0) (3.11.0)\n",
            "Requirement already satisfied: typing-extensions in /usr/local/lib/python3.9/dist-packages (from torch>=1.5.0->spacy-transformers<1.1.0,>=1.0.0rc4->en_core_web_trf==3.0.0) (4.5.0)\n",
            "Requirement already satisfied: cmake in /usr/local/lib/python3.9/dist-packages (from triton==2.0.0->torch>=1.5.0->spacy-transformers<1.1.0,>=1.0.0rc4->en_core_web_trf==3.0.0) (3.25.2)\n",
            "Requirement already satisfied: lit in /usr/local/lib/python3.9/dist-packages (from triton==2.0.0->torch>=1.5.0->spacy-transformers<1.1.0,>=1.0.0rc4->en_core_web_trf==3.0.0) (16.0.1)\n",
            "Collecting tokenizers<0.11,>=0.10.1\n",
            "  Downloading tokenizers-0.10.3-cp39-cp39-manylinux_2_5_x86_64.manylinux1_x86_64.manylinux_2_12_x86_64.manylinux2010_x86_64.whl (3.3 MB)\n",
            "\u001b[2K     \u001b[90m━━━━━━━━━━━━━━━━━━━━━━━━━━━━━━━━━━━━━━━━\u001b[0m \u001b[32m3.3/3.3 MB\u001b[0m \u001b[31m179.8 MB/s\u001b[0m eta \u001b[36m0:00:00\u001b[0m\n",
            "\u001b[?25hCollecting sacremoses\n",
            "  Downloading sacremoses-0.0.53.tar.gz (880 kB)\n",
            "\u001b[2K     \u001b[90m━━━━━━━━━━━━━━━━━━━━━━━━━━━━━━━━━━━━━\u001b[0m \u001b[32m880.6/880.6 kB\u001b[0m \u001b[31m164.1 MB/s\u001b[0m eta \u001b[36m0:00:00\u001b[0m\n",
            "\u001b[?25h  Preparing metadata (setup.py) ... \u001b[?25l\u001b[?25hdone\n",
            "Requirement already satisfied: pyyaml>=5.1 in /usr/local/lib/python3.9/dist-packages (from transformers<4.10.0,>=3.4.0->spacy-transformers<1.1.0,>=1.0.0rc4->en_core_web_trf==3.0.0) (6.0)\n",
            "Collecting huggingface-hub==0.0.12\n",
            "  Downloading huggingface_hub-0.0.12-py3-none-any.whl (37 kB)\n",
            "Requirement already satisfied: regex!=2019.12.17 in /usr/local/lib/python3.9/dist-packages (from transformers<4.10.0,>=3.4.0->spacy-transformers<1.1.0,>=1.0.0rc4->en_core_web_trf==3.0.0) (2022.10.31)\n",
            "Requirement already satisfied: click<7.2.0,>=7.1.1 in /usr/local/lib/python3.9/dist-packages (from typer<0.4.0,>=0.3.0->spacy<3.1.0,>=3.0.0->en_core_web_trf==3.0.0) (7.1.2)\n",
            "Requirement already satisfied: MarkupSafe>=2.0 in /usr/local/lib/python3.9/dist-packages (from jinja2->spacy<3.1.0,>=3.0.0->en_core_web_trf==3.0.0) (2.1.2)\n",
            "Requirement already satisfied: six in /usr/local/lib/python3.9/dist-packages (from sacremoses->transformers<4.10.0,>=3.4.0->spacy-transformers<1.1.0,>=1.0.0rc4->en_core_web_trf==3.0.0) (1.16.0)\n",
            "Requirement already satisfied: joblib in /usr/local/lib/python3.9/dist-packages (from sacremoses->transformers<4.10.0,>=3.4.0->spacy-transformers<1.1.0,>=1.0.0rc4->en_core_web_trf==3.0.0) (1.2.0)\n",
            "Requirement already satisfied: mpmath>=0.19 in /usr/local/lib/python3.9/dist-packages (from sympy->torch>=1.5.0->spacy-transformers<1.1.0,>=1.0.0rc4->en_core_web_trf==3.0.0) (1.3.0)\n",
            "Building wheels for collected packages: en_core_web_trf, sacremoses\n",
            "  Building wheel for en_core_web_trf (setup.py) ... \u001b[?25l\u001b[?25hdone\n",
            "  Created wheel for en_core_web_trf: filename=en_core_web_trf-3.0.0-py3-none-any.whl size=459708991 sha256=14cab12aa695201710ce4c220804572ff9b8de8476f9776142306f898e66a785\n",
            "  Stored in directory: /tmp/pip-ephem-wheel-cache-dvg49bfi/wheels/26/67/8a/2eb1a0411165040a9c10dd80e3b1f2bb4a5ab412f31dccd903\n",
            "  Building wheel for sacremoses (setup.py) ... \u001b[?25l\u001b[?25hdone\n",
            "  Created wheel for sacremoses: filename=sacremoses-0.0.53-py3-none-any.whl size=895259 sha256=2abc544b2fc436d230ca16bba2481c9f548a86741b7e10d1740fcc377b2d6abf\n",
            "  Stored in directory: /tmp/pip-ephem-wheel-cache-dvg49bfi/wheels/12/1c/3d/46cf06718d63a32ff798a89594b61e7f345ab6b36d909ce033\n",
            "Successfully built en_core_web_trf sacremoses\n",
            "Installing collected packages: tokenizers, spacy-alignments, sacremoses, huggingface-hub, transformers, spacy, spacy-transformers, en_core_web_trf\n",
            "  Attempting uninstall: spacy\n",
            "    Found existing installation: spacy 3.5.2\n",
            "    Uninstalling spacy-3.5.2:\n",
            "      Successfully uninstalled spacy-3.5.2\n",
            "\u001b[31mERROR: pip's dependency resolver does not currently take into account all the packages that are installed. This behaviour is the source of the following dependency conflicts.\n",
            "en-core-web-sm 3.5.0 requires spacy<3.6.0,>=3.5.0, but you have spacy 3.0.9 which is incompatible.\n",
            "en-core-web-lg 3.5.0 requires spacy<3.6.0,>=3.5.0, but you have spacy 3.0.9 which is incompatible.\u001b[0m\u001b[31m\n",
            "\u001b[0mSuccessfully installed en_core_web_trf-3.0.0 huggingface-hub-0.0.12 sacremoses-0.0.53 spacy-3.0.9 spacy-alignments-0.9.0 spacy-transformers-1.0.4 tokenizers-0.10.3 transformers-4.9.2\n",
            "\u001b[38;5;2m✔ Download and installation successful\u001b[0m\n",
            "You can now load the package via spacy.load('en_core_web_trf')\n"
          ]
        }
      ],
      "source": [
        "!python -m spacy download en_core_web_trf"
      ]
    },
    {
      "cell_type": "code",
      "execution_count": null,
      "metadata": {
        "colab": {
          "base_uri": "https://localhost:8080/"
        },
        "id": "Aw2Q6Rjyaj5u",
        "outputId": "1f76e829-a227-4875-e1df-11d0e47c9b16"
      },
      "outputs": [
        {
          "output_type": "stream",
          "name": "stdout",
          "text": [
            "Looking in indexes: https://pypi.org/simple, https://us-python.pkg.dev/colab-wheels/public/simple/\n",
            "Requirement already satisfied: pip in /usr/local/lib/python3.9/dist-packages (23.0.1)\n",
            "Collecting pip\n",
            "  Downloading pip-23.1.1-py3-none-any.whl (2.1 MB)\n",
            "\u001b[2K     \u001b[90m━━━━━━━━━━━━━━━━━━━━━━━━━━━━━━━━━━━━━━━━\u001b[0m \u001b[32m2.1/2.1 MB\u001b[0m \u001b[31m33.2 MB/s\u001b[0m eta \u001b[36m0:00:00\u001b[0m\n",
            "\u001b[?25hRequirement already satisfied: setuptools in /usr/local/lib/python3.9/dist-packages (67.6.1)\n",
            "Collecting setuptools\n",
            "  Downloading setuptools-67.7.1-py3-none-any.whl (1.1 MB)\n",
            "\u001b[2K     \u001b[90m━━━━━━━━━━━━━━━━━━━━━━━━━━━━━━━━━━━━━━━━\u001b[0m \u001b[32m1.1/1.1 MB\u001b[0m \u001b[31m65.9 MB/s\u001b[0m eta \u001b[36m0:00:00\u001b[0m\n",
            "\u001b[?25hRequirement already satisfied: wheel in /usr/local/lib/python3.9/dist-packages (0.40.0)\n",
            "Installing collected packages: setuptools, pip\n",
            "  Attempting uninstall: setuptools\n",
            "    Found existing installation: setuptools 67.6.1\n",
            "    Uninstalling setuptools-67.6.1:\n",
            "      Successfully uninstalled setuptools-67.6.1\n",
            "  Attempting uninstall: pip\n",
            "    Found existing installation: pip 23.0.1\n",
            "    Uninstalling pip-23.0.1:\n",
            "      Successfully uninstalled pip-23.0.1\n",
            "\u001b[31mERROR: pip's dependency resolver does not currently take into account all the packages that are installed. This behaviour is the source of the following dependency conflicts.\n",
            "ipython 7.34.0 requires jedi>=0.16, which is not installed.\n",
            "en-core-web-sm 3.5.0 requires spacy<3.6.0,>=3.5.0, but you have spacy 3.0.9 which is incompatible.\n",
            "en-core-web-lg 3.5.0 requires spacy<3.6.0,>=3.5.0, but you have spacy 3.0.9 which is incompatible.\u001b[0m\u001b[31m\n",
            "\u001b[0mSuccessfully installed pip-23.1.1 setuptools-67.7.1\n"
          ]
        }
      ],
      "source": [
        "!pip install -U pip setuptools wheel"
      ]
    },
    {
      "cell_type": "code",
      "execution_count": null,
      "metadata": {
        "colab": {
          "base_uri": "https://localhost:8080/"
        },
        "id": "PQZu_YykamqW",
        "outputId": "2146e617-f0a3-4696-e142-016dd21ca674"
      },
      "outputs": [
        {
          "output_type": "stream",
          "name": "stdout",
          "text": [
            "Looking in indexes: https://pypi.org/simple, https://us-python.pkg.dev/colab-wheels/public/simple/\n",
            "Requirement already satisfied: spacy in /usr/local/lib/python3.9/dist-packages (3.0.9)\n",
            "Collecting spacy\n",
            "  Downloading spacy-3.5.2-cp39-cp39-manylinux_2_17_x86_64.manylinux2014_x86_64.whl (6.6 MB)\n",
            "\u001b[2K     \u001b[90m━━━━━━━━━━━━━━━━━━━━━━━━━━━━━━━━━━━━━━━━\u001b[0m \u001b[32m6.6/6.6 MB\u001b[0m \u001b[31m59.4 MB/s\u001b[0m eta \u001b[36m0:00:00\u001b[0m\n",
            "\u001b[?25hRequirement already satisfied: transformers in /usr/local/lib/python3.9/dist-packages (4.9.2)\n",
            "Collecting transformers\n",
            "  Downloading transformers-4.28.1-py3-none-any.whl (7.0 MB)\n",
            "\u001b[2K     \u001b[90m━━━━━━━━━━━━━━━━━━━━━━━━━━━━━━━━━━━━━━━━\u001b[0m \u001b[32m7.0/7.0 MB\u001b[0m \u001b[31m71.6 MB/s\u001b[0m eta \u001b[36m0:00:00\u001b[0m\n",
            "\u001b[?25hRequirement already satisfied: spacy-legacy<3.1.0,>=3.0.11 in /usr/local/lib/python3.9/dist-packages (from spacy) (3.0.12)\n",
            "Requirement already satisfied: spacy-loggers<2.0.0,>=1.0.0 in /usr/local/lib/python3.9/dist-packages (from spacy) (1.0.4)\n",
            "Requirement already satisfied: murmurhash<1.1.0,>=0.28.0 in /usr/local/lib/python3.9/dist-packages (from spacy) (1.0.9)\n",
            "Requirement already satisfied: cymem<2.1.0,>=2.0.2 in /usr/local/lib/python3.9/dist-packages (from spacy) (2.0.7)\n",
            "Requirement already satisfied: preshed<3.1.0,>=3.0.2 in /usr/local/lib/python3.9/dist-packages (from spacy) (3.0.8)\n",
            "Collecting thinc<8.2.0,>=8.1.8 (from spacy)\n",
            "  Downloading thinc-8.1.9-cp39-cp39-manylinux_2_17_x86_64.manylinux2014_x86_64.whl (922 kB)\n",
            "\u001b[2K     \u001b[90m━━━━━━━━━━━━━━━━━━━━━━━━━━━━━━━━━━━━━━\u001b[0m \u001b[32m922.5/922.5 kB\u001b[0m \u001b[31m41.2 MB/s\u001b[0m eta \u001b[36m0:00:00\u001b[0m\n",
            "\u001b[?25hRequirement already satisfied: wasabi<1.2.0,>=0.9.1 in /usr/local/lib/python3.9/dist-packages (from spacy) (0.10.1)\n",
            "Requirement already satisfied: srsly<3.0.0,>=2.4.3 in /usr/local/lib/python3.9/dist-packages (from spacy) (2.4.6)\n",
            "Requirement already satisfied: catalogue<2.1.0,>=2.0.6 in /usr/local/lib/python3.9/dist-packages (from spacy) (2.0.8)\n",
            "Requirement already satisfied: typer<0.8.0,>=0.3.0 in /usr/local/lib/python3.9/dist-packages (from spacy) (0.3.2)\n",
            "Requirement already satisfied: pathy>=0.10.0 in /usr/local/lib/python3.9/dist-packages (from spacy) (0.10.1)\n",
            "Requirement already satisfied: smart-open<7.0.0,>=5.2.1 in /usr/local/lib/python3.9/dist-packages (from spacy) (6.3.0)\n",
            "Requirement already satisfied: tqdm<5.0.0,>=4.38.0 in /usr/local/lib/python3.9/dist-packages (from spacy) (4.65.0)\n",
            "Requirement already satisfied: numpy>=1.15.0 in /usr/local/lib/python3.9/dist-packages (from spacy) (1.22.4)\n",
            "Requirement already satisfied: requests<3.0.0,>=2.13.0 in /usr/local/lib/python3.9/dist-packages (from spacy) (2.27.1)\n",
            "Requirement already satisfied: pydantic!=1.8,!=1.8.1,<1.11.0,>=1.7.4 in /usr/local/lib/python3.9/dist-packages (from spacy) (1.7.4)\n",
            "Requirement already satisfied: jinja2 in /usr/local/lib/python3.9/dist-packages (from spacy) (3.1.2)\n",
            "Requirement already satisfied: setuptools in /usr/local/lib/python3.9/dist-packages (from spacy) (67.7.1)\n",
            "Requirement already satisfied: packaging>=20.0 in /usr/local/lib/python3.9/dist-packages (from spacy) (23.1)\n",
            "Requirement already satisfied: langcodes<4.0.0,>=3.2.0 in /usr/local/lib/python3.9/dist-packages (from spacy) (3.3.0)\n",
            "Requirement already satisfied: filelock in /usr/local/lib/python3.9/dist-packages (from transformers) (3.11.0)\n",
            "Collecting huggingface-hub<1.0,>=0.11.0 (from transformers)\n",
            "  Downloading huggingface_hub-0.13.4-py3-none-any.whl (200 kB)\n",
            "\u001b[2K     \u001b[90m━━━━━━━━━━━━━━━━━━━━━━━━━━━━━━━━━━━━━━\u001b[0m \u001b[32m200.1/200.1 kB\u001b[0m \u001b[31m27.0 MB/s\u001b[0m eta \u001b[36m0:00:00\u001b[0m\n",
            "\u001b[?25hRequirement already satisfied: pyyaml>=5.1 in /usr/local/lib/python3.9/dist-packages (from transformers) (6.0)\n",
            "Requirement already satisfied: regex!=2019.12.17 in /usr/local/lib/python3.9/dist-packages (from transformers) (2022.10.31)\n",
            "Collecting tokenizers!=0.11.3,<0.14,>=0.11.1 (from transformers)\n",
            "  Downloading tokenizers-0.13.3-cp39-cp39-manylinux_2_17_x86_64.manylinux2014_x86_64.whl (7.8 MB)\n",
            "\u001b[2K     \u001b[90m━━━━━━━━━━━━━━━━━━━━━━━━━━━━━━━━━━━━━━━━\u001b[0m \u001b[32m7.8/7.8 MB\u001b[0m \u001b[31m65.8 MB/s\u001b[0m eta \u001b[36m0:00:00\u001b[0m\n",
            "\u001b[?25hRequirement already satisfied: typing-extensions>=3.7.4.3 in /usr/local/lib/python3.9/dist-packages (from huggingface-hub<1.0,>=0.11.0->transformers) (4.5.0)\n",
            "Requirement already satisfied: urllib3<1.27,>=1.21.1 in /usr/local/lib/python3.9/dist-packages (from requests<3.0.0,>=2.13.0->spacy) (1.26.15)\n",
            "Requirement already satisfied: certifi>=2017.4.17 in /usr/local/lib/python3.9/dist-packages (from requests<3.0.0,>=2.13.0->spacy) (2022.12.7)\n",
            "Requirement already satisfied: charset-normalizer~=2.0.0 in /usr/local/lib/python3.9/dist-packages (from requests<3.0.0,>=2.13.0->spacy) (2.0.12)\n",
            "Requirement already satisfied: idna<4,>=2.5 in /usr/local/lib/python3.9/dist-packages (from requests<3.0.0,>=2.13.0->spacy) (3.4)\n",
            "Requirement already satisfied: blis<0.8.0,>=0.7.8 in /usr/local/lib/python3.9/dist-packages (from thinc<8.2.0,>=8.1.8->spacy) (0.7.9)\n",
            "Requirement already satisfied: confection<1.0.0,>=0.0.1 in /usr/local/lib/python3.9/dist-packages (from thinc<8.2.0,>=8.1.8->spacy) (0.0.4)\n",
            "Requirement already satisfied: click<7.2.0,>=7.1.1 in /usr/local/lib/python3.9/dist-packages (from typer<0.8.0,>=0.3.0->spacy) (7.1.2)\n",
            "Requirement already satisfied: MarkupSafe>=2.0 in /usr/local/lib/python3.9/dist-packages (from jinja2->spacy) (2.1.2)\n",
            "Installing collected packages: tokenizers, huggingface-hub, transformers, thinc, spacy\n",
            "  Attempting uninstall: tokenizers\n",
            "    Found existing installation: tokenizers 0.10.3\n",
            "    Uninstalling tokenizers-0.10.3:\n",
            "      Successfully uninstalled tokenizers-0.10.3\n",
            "  Attempting uninstall: huggingface-hub\n",
            "    Found existing installation: huggingface-hub 0.0.12\n",
            "    Uninstalling huggingface-hub-0.0.12:\n",
            "      Successfully uninstalled huggingface-hub-0.0.12\n",
            "  Attempting uninstall: transformers\n",
            "    Found existing installation: transformers 4.9.2\n",
            "    Uninstalling transformers-4.9.2:\n",
            "      Successfully uninstalled transformers-4.9.2\n",
            "  Attempting uninstall: thinc\n",
            "    Found existing installation: thinc 8.0.17\n",
            "    Uninstalling thinc-8.0.17:\n",
            "      Successfully uninstalled thinc-8.0.17\n",
            "  Attempting uninstall: spacy\n",
            "    Found existing installation: spacy 3.0.9\n",
            "    Uninstalling spacy-3.0.9:\n",
            "      Successfully uninstalled spacy-3.0.9\n",
            "\u001b[31mERROR: pip's dependency resolver does not currently take into account all the packages that are installed. This behaviour is the source of the following dependency conflicts.\n",
            "en-core-web-trf 3.0.0 requires spacy<3.1.0,>=3.0.0, but you have spacy 3.5.2 which is incompatible.\n",
            "spacy-nightly 3.0.0rc5 requires thinc<8.1.0,>=8.0.0, but you have thinc 8.1.9 which is incompatible.\n",
            "spacy-transformers 1.0.4 requires transformers<4.10.0,>=3.4.0, but you have transformers 4.28.1 which is incompatible.\u001b[0m\u001b[31m\n",
            "\u001b[0mSuccessfully installed huggingface-hub-0.13.4 spacy-3.5.2 thinc-8.1.9 tokenizers-0.13.3 transformers-4.28.1\n",
            "\u001b[33mWARNING: Running pip as the 'root' user can result in broken permissions and conflicting behaviour with the system package manager. It is recommended to use a virtual environment instead: https://pip.pypa.io/warnings/venv\u001b[0m\u001b[33m\n",
            "\u001b[0m"
          ]
        }
      ],
      "source": [
        "!pip install -U spacy transformers"
      ]
    },
    {
      "cell_type": "code",
      "execution_count": null,
      "metadata": {
        "id": "BynghcB6a_Ww"
      },
      "outputs": [],
      "source": [
        "import os\n",
        "os.chdir(\"/content/gdrive/MyDrive/Colab Notebooks/ProjectsExplotion/VCC_DATA/tutorials/rel_component\")"
      ]
    },
    {
      "cell_type": "code",
      "execution_count": null,
      "metadata": {
        "id": "OuNS1G-6cLRA"
      },
      "outputs": [],
      "source": [
        "!python -m spacy project clone tutorials/rel_component"
      ]
    },
    {
      "cell_type": "code",
      "execution_count": null,
      "metadata": {
        "colab": {
          "base_uri": "https://localhost:8080/",
          "height": 35
        },
        "id": "fU5WK9l2pjYA",
        "outputId": "2d512e51-914d-4d4c-bf31-cd503fb26478"
      },
      "outputs": [
        {
          "data": {
            "application/vnd.google.colaboratory.intrinsic+json": {
              "type": "string"
            },
            "text/plain": [
              "'/content/gdrive/MyDrive/Colab Notebooks/ProjectsExplotion/VCC_DATA/tutorials/rel_component'"
            ]
          },
          "execution_count": 28,
          "metadata": {},
          "output_type": "execute_result"
        }
      ],
      "source": [
        "import os\n",
        "os.getcwd()"
      ]
    },
    {
      "cell_type": "code",
      "execution_count": null,
      "metadata": {
        "colab": {
          "base_uri": "https://localhost:8080/"
        },
        "id": "9AtVXrtYpqQY",
        "outputId": "b5e70788-71bc-4602-8af9-c7aa16f624ed"
      },
      "outputs": [
        {
          "output_type": "stream",
          "name": "stdout",
          "text": [
            " \u001b[0m\u001b[01;34massets\u001b[0m/                    \u001b[01;34mdataExplosion\u001b[0m/   rel_pipe.py\n",
            " \u001b[01;34mconfigs\u001b[0m/                   project.lock     \u001b[01;34mscripts\u001b[0m/\n",
            "'Copy of project (1).yml'   project.yml      test_project_rel.py\n",
            "'Copy of project.yml'       README.md\n",
            " \u001b[01;34mdata\u001b[0m/                      \u001b[01;34mrel_component\u001b[0m/\n"
          ]
        }
      ],
      "source": [
        "ls"
      ]
    },
    {
      "cell_type": "code",
      "execution_count": null,
      "metadata": {
        "colab": {
          "base_uri": "https://localhost:8080/"
        },
        "id": "XSVyTvm3qQo2",
        "outputId": "7ff5fb98-7bdb-45b6-abba-033a7cf8ade7"
      },
      "outputs": [
        {
          "output_type": "stream",
          "name": "stdout",
          "text": [
            "2023-04-24 08:29:28.903315: W tensorflow/compiler/tf2tensorrt/utils/py_utils.cc:38] TF-TRT Warning: Could not find TensorRT\n",
            "\u001b[1m\n",
            "================================= train_cpu =================================\u001b[0m\n",
            "Running command: /usr/bin/python3 -m spacy train configs/rel_tok2vec.cfg --output training --paths.train data/train.spacy --paths.dev data/dev.spacy -c ./scripts/custom_functions.py\n",
            "2023-04-24 08:29:36.680338: W tensorflow/compiler/tf2tensorrt/utils/py_utils.cc:38] TF-TRT Warning: Could not find TensorRT\n",
            "\u001b[38;5;4mℹ Saving to output directory: training\u001b[0m\n",
            "\u001b[38;5;4mℹ Using CPU\u001b[0m\n",
            "\u001b[1m\n",
            "=========================== Initializing pipeline ===========================\u001b[0m\n",
            "[2023-04-24 08:29:41,909] [INFO] Set up nlp object from config\n",
            "[2023-04-24 08:29:41,919] [INFO] Pipeline: ['tok2vec', 'relation_extractor']\n",
            "[2023-04-24 08:29:41,923] [INFO] Created vocabulary\n",
            "[2023-04-24 08:29:41,924] [INFO] Finished initializing nlp object\n",
            "[2023-04-24 08:29:51,295] [INFO] Initialized pipeline components: ['tok2vec', 'relation_extractor']\n",
            "\u001b[38;5;2m✔ Initialized pipeline\u001b[0m\n",
            "\u001b[1m\n",
            "============================= Training pipeline =============================\u001b[0m\n",
            "\u001b[38;5;4mℹ Pipeline: ['tok2vec', 'relation_extractor']\u001b[0m\n",
            "\u001b[38;5;4mℹ Initial learn rate: 0.01\u001b[0m\n",
            "E    #       LOSS TOK2VEC  LOSS RELAT...  REL_MICRO_P  REL_MICRO_R  REL_MICRO_F  SCORE \n",
            "---  ------  ------------  -------------  -----------  -----------  -----------  ------\n",
            "  0       0          7.64           3.64        40.00        18.18        25.00    0.25\n",
            "500     500          1.82          11.85        80.00        36.36        50.00    0.50\n",
            "1000    1000          0.09           7.73        80.00        36.36        50.00    0.50\n",
            "1500    1500          1.39           7.92       100.00        45.45        62.50    0.62\n",
            "2000    2000          0.10           7.73        80.00        36.36        50.00    0.50\n",
            "\u001b[38;5;3m⚠ Aborting and saving the final best model. Encountered exception:\n",
            "OSError(107, 'Transport endpoint is not connected')\u001b[0m\n",
            "Traceback (most recent call last):\n",
            "  File \"/usr/local/lib/python3.9/dist-packages/spacy/training/loop.py\", line 124, in train\n",
            "    raise e\n",
            "  File \"/usr/local/lib/python3.9/dist-packages/spacy/training/loop.py\", line 107, in train\n",
            "    for batch, info, is_best_checkpoint in training_step_iterator:\n",
            "  File \"/usr/local/lib/python3.9/dist-packages/spacy/training/loop.py\", line 232, in train_while_improving\n",
            "    score, other_scores = evaluate()\n",
            "  File \"/usr/local/lib/python3.9/dist-packages/spacy/training/loop.py\", line 287, in evaluate\n",
            "    scores = nlp.evaluate(dev_corpus(nlp))\n",
            "  File \"/usr/local/lib/python3.9/dist-packages/spacy/language.py\", line 1391, in evaluate\n",
            "    examples = list(examples)\n",
            "  File \"scripts/custom_functions.py\", line 23, in read_files\n",
            "  File \"/usr/local/lib/python3.9/dist-packages/spacy/tokens/_serialize.py\", line 277, in from_disk\n",
            "    with path.open(\"rb\") as file_:\n",
            "  File \"/usr/lib/python3.9/pathlib.py\", line 1252, in open\n",
            "    return io.open(self, mode, buffering, encoding, errors, newline,\n",
            "  File \"/usr/lib/python3.9/pathlib.py\", line 1120, in _opener\n",
            "    return self._accessor.open(self, flags, mode)\n",
            "OSError: [Errno 107] Transport endpoint is not connected: 'data/dev.spacy'\n",
            "\n",
            "During handling of the above exception, another exception occurred:\n",
            "\n",
            "Traceback (most recent call last):\n",
            "  File \"/usr/lib/python3.9/runpy.py\", line 197, in _run_module_as_main\n",
            "    return _run_code(code, main_globals, None,\n",
            "  File \"/usr/lib/python3.9/runpy.py\", line 87, in _run_code\n",
            "    exec(code, run_globals)\n",
            "  File \"/usr/local/lib/python3.9/dist-packages/spacy/__main__.py\", line 4, in <module>\n",
            "    setup_cli()\n",
            "  File \"/usr/local/lib/python3.9/dist-packages/spacy/cli/_util.py\", line 74, in setup_cli\n",
            "    command(prog_name=COMMAND)\n",
            "  File \"/usr/local/lib/python3.9/dist-packages/click/core.py\", line 829, in __call__\n",
            "    return self.main(*args, **kwargs)\n",
            "  File \"/usr/local/lib/python3.9/dist-packages/click/core.py\", line 782, in main\n",
            "    rv = self.invoke(ctx)\n",
            "  File \"/usr/local/lib/python3.9/dist-packages/click/core.py\", line 1259, in invoke\n",
            "    return _process_result(sub_ctx.command.invoke(sub_ctx))\n",
            "  File \"/usr/local/lib/python3.9/dist-packages/click/core.py\", line 1066, in invoke\n",
            "    return ctx.invoke(self.callback, **ctx.params)\n",
            "  File \"/usr/local/lib/python3.9/dist-packages/click/core.py\", line 610, in invoke\n",
            "    return callback(*args, **kwargs)\n",
            "  File \"/usr/local/lib/python3.9/dist-packages/typer/main.py\", line 497, in wrapper\n",
            "    return callback(**use_params)  # type: ignore\n",
            "  File \"/usr/local/lib/python3.9/dist-packages/spacy/cli/train.py\", line 45, in train_cli\n",
            "    train(config_path, output_path, use_gpu=use_gpu, overrides=overrides)\n",
            "  File \"/usr/local/lib/python3.9/dist-packages/spacy/cli/train.py\", line 75, in train\n",
            "    train_nlp(nlp, output_path, use_gpu=use_gpu, stdout=sys.stdout, stderr=sys.stderr)\n",
            "  File \"/usr/local/lib/python3.9/dist-packages/spacy/training/loop.py\", line 128, in train\n",
            "    save_checkpoint(False)\n",
            "  File \"/usr/local/lib/python3.9/dist-packages/spacy/training/loop.py\", line 68, in save_checkpoint\n",
            "    before_to_disk(nlp).to_disk(output_path / DIR_MODEL_LAST)\n",
            "  File \"/usr/local/lib/python3.9/dist-packages/spacy/language.py\", line 2036, in to_disk\n",
            "    util.to_disk(path, serializers, exclude)\n",
            "  File \"/usr/local/lib/python3.9/dist-packages/spacy/util.py\", line 1351, in to_disk\n",
            "    if not path.exists():\n",
            "  File \"/usr/lib/python3.9/pathlib.py\", line 1424, in exists\n",
            "    self.stat()\n",
            "  File \"/usr/lib/python3.9/pathlib.py\", line 1232, in stat\n",
            "    return self._accessor.stat(self)\n",
            "OSError: [Errno 107] Transport endpoint is not connected: 'training/model-last'\n"
          ]
        }
      ],
      "source": [
        "!spacy project run train_cpu"
      ]
    },
    {
      "cell_type": "code",
      "execution_count": null,
      "metadata": {
        "colab": {
          "base_uri": "https://localhost:8080/"
        },
        "id": "YMjzPvM4b3A9",
        "outputId": "bb4935eb-b8a7-4d81-fd02-a5d20da8ac23"
      },
      "outputs": [
        {
          "output_type": "stream",
          "name": "stdout",
          "text": [
            "shell-init: error retrieving current directory: getcwd: cannot access parent directories: Transport endpoint is not connected\n",
            "Intel MKL FATAL ERROR: Cannot load /usr/local/lib/python3.9/dist-packages/torch/lib/libtorch_cpu.so.\n"
          ]
        }
      ],
      "source": [
        "!spacy project run evaluate"
      ]
    },
    {
      "cell_type": "code",
      "execution_count": null,
      "metadata": {
        "colab": {
          "base_uri": "https://localhost:8080/"
        },
        "id": "3UlJ8Pxgakpn",
        "outputId": "83d6c1b8-da0e-4905-8cf4-414ed678c565"
      },
      "outputs": [
        {
          "name": "stdout",
          "output_type": "stream",
          "text": [
            "custom_functions.py  parse_data_generic.py  rel_model.py\n",
            "evaluate.py          parse_data.py          rel_pipe.py\n",
            "__init__.py          \u001b[0m\u001b[01;34m__pycache__\u001b[0m/           test.spacy\n"
          ]
        }
      ],
      "source": [
        "ls"
      ]
    },
    {
      "cell_type": "code",
      "execution_count": null,
      "metadata": {
        "colab": {
          "base_uri": "https://localhost:8080/"
        },
        "id": "lyv43mbcoYxB",
        "outputId": "b7946f35-c284-4101-8d88-f7c9af839cab"
      },
      "outputs": [
        {
          "name": "stdout",
          "output_type": "stream",
          "text": [
            "spans: [(11, '$226 million', 'FUNDING_AMOUNT'), (27, 'Sequoia Capital', 'INVESTOR_NAME'), (33, 'Temasek Holdings', 'INVESTOR_NAME'), (91, 'Burda Principal Investments', 'INVESTOR_NAME'), (100, 'Hubert Burda Media', 'INVESTOR_NAME'), (333, '2015', 'FOUNDED_DATE'), (335, 'Dhruv Kapoor', 'FOUNDER_NAME'), (407, '$23 billion', 'VALUATION')]\n"
          ]
        }
      ],
      "source": [
        "import os\n",
        "os.chdir(\"/content/gdrive/MyDrive/Colab Notebooks/ProjectsExplotion/VCC_DATA/CustomNER\")\n",
        "import spacy\n",
        "nlp = spacy.load(\"model-best\")\n",
        "nlp.add_pipe('sentencizer')\n",
        "#nlp.add_pipe(nlp.create_pipe('sentencizer'))\n",
        "Text=['''['Southeast Asian fashion startup Zilingo said it has raised $226 million in its latest funding round from existing backers such as venture capital firm Sequoia Capital, with Singapore’s Temasek Holdings joining as a new investor.', 'The Series D financing follows a $54 million fundraising last year, taking the total capital raised by the company to $308 million. The company declined to provide valuation.', 'The latest round included Singapore investment fund EDBI and previous investors Burda Principal Investments, a division of Germany’s Hubert Burda Media, and Belgian investment firm Sofina, Zilingo said in a statement on Tuesday.', 'The Singapore-headquartered company plans to use the funds to invest in infrastructure and technology to further integrate and digitize the fashion and beauty supply chain, it said.', 'Zilingo, whose main market for the consumer business is Indonesia, is expanding in countries such as Australia in 2019.', 'The company, which started as a fashion marketplace, has been rapidly growing its business-to-business (B2B) tools and platforms, which include providing value-added services to its merchants as well as a marketplace to help them source efficiently from manufacturers.', 'The company, which also acts as an affiliate for companies to provide financing to small firms on its platform, is now earning the bulk of its revenue from its B2B business.', 'Zilingo has grown its revenues by four times in the last 12 months, it said, but did not provide specific numbers.', '“We are pretty close to profitability and have a clear path to it,” Ankiti Bose, the company’s co-founder and CEO, told Reuters. Bose founded the company in 2015 with Dhruv Kapoor, its chief technology officer.', 'In Southeast Asia, local fashion e-commerce players such as Zalora, ‘Love, Bonito’ and JD.com-backed fashion retailer Pomelo compete with global platforms like ASOS. A study by Google and Temasek has forecast that e-commerce in Southeast Asia will exceed $100 billion in gross merchandise value by 2025 from over $23 billion in 2018.', 'Bose said purely selling to consumers would mean that the only way to win is through price wars and discounting.', '“Instead what we are trying to do is trying to lower the cost of procurement for these merchants and add services on that layer there, which is basically before it even gets to the merchant and they try to sell it online,” she added.', 'Share article on']''']\n",
        "for doc in nlp.pipe(Text, disable=[\"tagger\"]):\n",
        "   print(f\"spans: {[(e.start, e.text, e.label_) for e in doc.ents]}\")"
      ]
    },
    {
      "cell_type": "code",
      "execution_count": null,
      "metadata": {
        "id": "OE-6lq6MU_Yi"
      },
      "outputs": [],
      "source": [
        "import os\n",
        "os.chdir(\"/content/gdrive/MyDrive/Colab Notebooks/ProjectsExplotion/VCC_DATA/tutorials/rel_component/scripts\")"
      ]
    },
    {
      "cell_type": "code",
      "execution_count": null,
      "metadata": {
        "colab": {
          "base_uri": "https://localhost:8080/"
        },
        "id": "N3HeyG_9EPaP",
        "outputId": "53f02132-f816-4949-de38-4a35a4352af6"
      },
      "outputs": [
        {
          "name": "stderr",
          "output_type": "stream",
          "text": [
            "/usr/local/lib/python3.9/dist-packages/spacy/util.py:887: UserWarning: [W095] Model 'en_pipeline' (0.0.0) was trained with spaCy v3.5 and may not be 100% compatible with the current version (3.5.1). If you see errors or degraded performance, download a newer compatible model or retrain your custom model with the current spaCy version. For more details and available updates, run: python -m spacy validate\n",
            "  warnings.warn(warn_msg)\n"
          ]
        }
      ],
      "source": [
        "import random\n",
        "import typer\n",
        "from pathlib import Path\n",
        "import spacy\n",
        "from spacy.tokens import DocBin, Doc\n",
        "from spacy.training.example import Example\n",
        "from rel_pipe import make_relation_extractor, score_relations\n",
        "from rel_model import create_relation_model, create_classification_layer, create_instances, create_tensors\n",
        "# We load the relation extraction (REL) model\n",
        "nlp2 = spacy.load(\"/content/gdrive/MyDrive/Colab Notebooks/ProjectsExplotion/VCC_DATA/tutorials/rel_component/training/model-best\")\n",
        "for name, proc in nlp2.pipeline:\n",
        "  doc = proc(doc)"
      ]
    },
    {
      "cell_type": "code",
      "execution_count": null,
      "metadata": {
        "colab": {
          "base_uri": "https://localhost:8080/"
        },
        "id": "-7h_4tKaWyiK",
        "outputId": "03b64bab-d2b3-422a-804f-283b483b252d"
      },
      "outputs": [
        {
          "name": "stdout",
          "output_type": "stream",
          "text": [
            " entities: ('$226 million', 'Sequoia Capital') --> predicted relation: {'STARTUP=>FUNDING_AMOUNT': 2.0611535e-09, 'STARTUP=>INVESTOR_NAME': 1.7036907e-06, 'STARTUP=>FUNDING_DATE': 2.0611535e-09, 'STARTUP=>FOUNDER_NAME': 6.7116474e-08, 'STARTUP=>VALUATION': 2.0611535e-09, 'STARTUP=>LOSS': 3.3247446e-08, 'STARTUP=>PROFIT_DATE': 2.0611535e-09, 'STARTUP=>PROFIT': 2.0611535e-09, 'STARTUP=>FOUNDED_DATE': 2.0611535e-09, 'STARTUP=>REVENUE': 4.6693913e-08}\n",
            " entities: ('$226 million', 'Temasek Holdings') --> predicted relation: {'STARTUP=>FUNDING_AMOUNT': 3.4494615e-08, 'STARTUP=>INVESTOR_NAME': 2.2344084e-06, 'STARTUP=>FUNDING_DATE': 2.0611535e-09, 'STARTUP=>FOUNDER_NAME': 7.453856e-08, 'STARTUP=>VALUATION': 3.5340233e-09, 'STARTUP=>LOSS': 7.830699e-08, 'STARTUP=>PROFIT_DATE': 2.0611535e-09, 'STARTUP=>PROFIT': 2.0611535e-09, 'STARTUP=>FOUNDED_DATE': 2.0611535e-09, 'STARTUP=>REVENUE': 2.1540714e-07}\n",
            " entities: ('Sequoia Capital', '$226 million') --> predicted relation: {'STARTUP=>FUNDING_AMOUNT': 3.1321847e-06, 'STARTUP=>INVESTOR_NAME': 2.0611535e-09, 'STARTUP=>FUNDING_DATE': 2.0611535e-09, 'STARTUP=>FOUNDER_NAME': 3.0407135e-09, 'STARTUP=>VALUATION': 2.0611535e-09, 'STARTUP=>LOSS': 1.3625401e-08, 'STARTUP=>PROFIT_DATE': 2.0611535e-09, 'STARTUP=>PROFIT': 5.5799636e-09, 'STARTUP=>FOUNDED_DATE': 2.0611535e-09, 'STARTUP=>REVENUE': 1.7372559e-08}\n",
            " entities: ('Sequoia Capital', 'Temasek Holdings') --> predicted relation: {'STARTUP=>FUNDING_AMOUNT': 2.7381786e-09, 'STARTUP=>INVESTOR_NAME': 2.0520577e-06, 'STARTUP=>FUNDING_DATE': 2.0611535e-09, 'STARTUP=>FOUNDER_NAME': 8.147963e-09, 'STARTUP=>VALUATION': 2.6081628e-09, 'STARTUP=>LOSS': 2.1259662e-08, 'STARTUP=>PROFIT_DATE': 2.0611535e-09, 'STARTUP=>PROFIT': 3.5407435e-09, 'STARTUP=>FOUNDED_DATE': 2.0611535e-09, 'STARTUP=>REVENUE': 1.1182241e-08}\n",
            " entities: ('Temasek Holdings', '$226 million') --> predicted relation: {'STARTUP=>FUNDING_AMOUNT': 4.8419843e-06, 'STARTUP=>INVESTOR_NAME': 2.0611535e-09, 'STARTUP=>FUNDING_DATE': 2.0611535e-09, 'STARTUP=>FOUNDER_NAME': 7.7704385e-09, 'STARTUP=>VALUATION': 1.1008057e-08, 'STARTUP=>LOSS': 1.3312224e-07, 'STARTUP=>PROFIT_DATE': 2.0611535e-09, 'STARTUP=>PROFIT': 7.650377e-09, 'STARTUP=>FOUNDED_DATE': 2.0611535e-09, 'STARTUP=>REVENUE': 7.826927e-07}\n",
            " entities: ('Temasek Holdings', 'Sequoia Capital') --> predicted relation: {'STARTUP=>FUNDING_AMOUNT': 2.0611535e-09, 'STARTUP=>INVESTOR_NAME': 3.8532275e-07, 'STARTUP=>FUNDING_DATE': 2.0611535e-09, 'STARTUP=>FOUNDER_NAME': 1.8748636e-08, 'STARTUP=>VALUATION': 2.1182507e-09, 'STARTUP=>LOSS': 8.818795e-08, 'STARTUP=>PROFIT_DATE': 2.0611535e-09, 'STARTUP=>PROFIT': 3.0737526e-09, 'STARTUP=>FOUNDED_DATE': 2.0611535e-09, 'STARTUP=>REVENUE': 1.0920897e-07}\n",
            " entities: ('Burda Principal Investments', 'Hubert Burda Media') --> predicted relation: {'STARTUP=>FUNDING_AMOUNT': 5.2476827e-09, 'STARTUP=>INVESTOR_NAME': 8.5095024e-08, 'STARTUP=>FUNDING_DATE': 2.0611535e-09, 'STARTUP=>FOUNDER_NAME': 1.5330856e-07, 'STARTUP=>VALUATION': 1.2660123e-08, 'STARTUP=>LOSS': 2.3447049e-07, 'STARTUP=>PROFIT_DATE': 4.6878608e-09, 'STARTUP=>PROFIT': 1.20408306e-08, 'STARTUP=>FOUNDED_DATE': 2.0611535e-09, 'STARTUP=>REVENUE': 8.335592e-08}\n",
            " entities: ('Hubert Burda Media', 'Burda Principal Investments') --> predicted relation: {'STARTUP=>FUNDING_AMOUNT': 1.2067822e-08, 'STARTUP=>INVESTOR_NAME': 2.1055757e-07, 'STARTUP=>FUNDING_DATE': 2.0611535e-09, 'STARTUP=>FOUNDER_NAME': 3.6021607e-08, 'STARTUP=>VALUATION': 5.0262723e-09, 'STARTUP=>LOSS': 3.3871237e-07, 'STARTUP=>PROFIT_DATE': 4.070034e-09, 'STARTUP=>PROFIT': 2.0611535e-09, 'STARTUP=>FOUNDED_DATE': 2.0611535e-09, 'STARTUP=>REVENUE': 9.990488e-08}\n",
            " entities: ('2015', 'Dhruv Kapoor') --> predicted relation: {'STARTUP=>FUNDING_AMOUNT': 3.5089098e-09, 'STARTUP=>INVESTOR_NAME': 2.4068866e-05, 'STARTUP=>FUNDING_DATE': 2.0611535e-09, 'STARTUP=>FOUNDER_NAME': 5.422449e-08, 'STARTUP=>VALUATION': 2.0611535e-09, 'STARTUP=>LOSS': 5.881008e-08, 'STARTUP=>PROFIT_DATE': 2.0611535e-09, 'STARTUP=>PROFIT': 2.852214e-08, 'STARTUP=>FOUNDED_DATE': 2.0611535e-09, 'STARTUP=>REVENUE': 1.7519238e-08}\n",
            " entities: ('Dhruv Kapoor', '2015') --> predicted relation: {'STARTUP=>FUNDING_AMOUNT': 2.3294846e-09, 'STARTUP=>INVESTOR_NAME': 2.0611535e-09, 'STARTUP=>FUNDING_DATE': 2.0611535e-09, 'STARTUP=>FOUNDER_NAME': 2.0611535e-09, 'STARTUP=>VALUATION': 3.4551753e-09, 'STARTUP=>LOSS': 7.274844e-08, 'STARTUP=>PROFIT_DATE': 2.0611535e-09, 'STARTUP=>PROFIT': 4.2546276e-08, 'STARTUP=>FOUNDED_DATE': 2.5278166e-06, 'STARTUP=>REVENUE': 2.0611535e-09}\n"
          ]
        }
      ],
      "source": [
        "for value, rel_dict in doc._.rel.items():\n",
        "  for sent in doc.sents:\n",
        "    for e in sent.ents:\n",
        "      for b in sent.ents:\n",
        "        if e.start == value[0] and b.start == value[1]:\n",
        "          if rel_dict['STARTUP=>INVESTOR_NAME'] >=0 :\n",
        "            print(f\" entities: {e.text, b.text} --> predicted relation: {rel_dict}\")"
      ]
    },
    {
      "cell_type": "code",
      "execution_count": null,
      "metadata": {
        "id": "ozIwZE9R4XV1"
      },
      "outputs": [],
      "source": []
    },
    {
      "cell_type": "code",
      "execution_count": null,
      "metadata": {
        "id": "SLJd3B-VwYiV"
      },
      "outputs": [],
      "source": []
    },
    {
      "cell_type": "code",
      "execution_count": null,
      "metadata": {
        "colab": {
          "base_uri": "https://localhost:8080/"
        },
        "id": "s1tWXNN0a9wO",
        "outputId": "a033d8da-7ae5-45d7-9482-98c0196e16a0"
      },
      "outputs": [
        {
          "name": "stdout",
          "output_type": "stream",
          "text": [
            "{'STARTUP=>FUNDING_AMOUNT': 1.2996636e-06, 'STARTUP=>INVESTOR_NAME': 2.0611535e-09, 'STARTUP=>FUNDING_DATE': 0.00012809086, 'STARTUP=>FOUNDER_NAME': 1.4697943e-07, 'STARTUP=>VALUATION': 5.4878133e-06, 'STARTUP=>LOSS': 2.281222e-06, 'STARTUP=>PROFIT_DATE': 1.6620629e-06, 'STARTUP=>PROFIT': 2.36434e-05, 'STARTUP=>FOUNDED_DATE': 1.8554455e-06, 'STARTUP=>REVENUE': 4.4387274e-05}\n"
          ]
        }
      ],
      "source": [
        "print(rel_dict)"
      ]
    },
    {
      "cell_type": "code",
      "execution_count": null,
      "metadata": {
        "colab": {
          "base_uri": "https://localhost:8080/"
        },
        "id": "ledPXJ3brLNl",
        "outputId": "2359c0fa-727a-42af-b33b-d9a061a6af85"
      },
      "outputs": [
        {
          "name": "stdout",
          "output_type": "stream",
          "text": [
            " entities: ('$226 million FUNDING_AMOUNT', 'Temasek Holdings') --> predicted relation: {'STARTUP=>FUNDING_AMOUNT': 3.128361e-06, 'STARTUP=>INVESTOR_NAME': 0.00015406605, 'STARTUP=>FUNDING_DATE': 2.2360567e-08, 'STARTUP=>FOUNDER_NAME': 3.2000298e-08, 'STARTUP=>VALUATION': 4.976341e-06, 'STARTUP=>LOSS': 1.8461915e-05, 'STARTUP=>PROFIT_DATE': 7.885839e-06, 'STARTUP=>PROFIT': 6.931497e-06, 'STARTUP=>FOUNDED_DATE': 2.5762186e-09, 'STARTUP=>REVENUE': 7.3343595e-06}\n",
            " entities: ('Temasek Holdings', '$226 million FUNDING_AMOUNT') --> predicted relation: {'STARTUP=>FUNDING_AMOUNT': 0.00013300095, 'STARTUP=>INVESTOR_NAME': 2.0611535e-09, 'STARTUP=>FUNDING_DATE': 2.0611535e-09, 'STARTUP=>FOUNDER_NAME': 1.0258685e-07, 'STARTUP=>VALUATION': 3.5125875e-05, 'STARTUP=>LOSS': 3.0632236e-05, 'STARTUP=>PROFIT_DATE': 2.7757014e-06, 'STARTUP=>PROFIT': 2.0023434e-05, 'STARTUP=>FOUNDED_DATE': 2.0611535e-09, 'STARTUP=>REVENUE': 8.72042e-05}\n",
            " entities: ('Burda Principal Investments INVESTOR_NAME', 'Hubert Burda INVESTOR_NAME Media') --> predicted relation: {'STARTUP=>FUNDING_AMOUNT': 2.195362e-06, 'STARTUP=>INVESTOR_NAME': 3.6841643e-06, 'STARTUP=>FUNDING_DATE': 3.549121e-09, 'STARTUP=>FOUNDER_NAME': 2.2515069e-07, 'STARTUP=>VALUATION': 1.2922361e-05, 'STARTUP=>LOSS': 4.9852497e-05, 'STARTUP=>PROFIT_DATE': 2.7884134e-05, 'STARTUP=>PROFIT': 2.4265853e-05, 'STARTUP=>FOUNDED_DATE': 5.780604e-09, 'STARTUP=>REVENUE': 0.00013555128}\n",
            " entities: ('Hubert Burda INVESTOR_NAME Media', 'Burda Principal Investments INVESTOR_NAME') --> predicted relation: {'STARTUP=>FUNDING_AMOUNT': 3.2422608e-06, 'STARTUP=>INVESTOR_NAME': 1.9063084e-05, 'STARTUP=>FUNDING_DATE': 4.643163e-09, 'STARTUP=>FOUNDER_NAME': 9.312067e-09, 'STARTUP=>VALUATION': 1.1875393e-05, 'STARTUP=>LOSS': 3.6821122e-05, 'STARTUP=>PROFIT_DATE': 6.706826e-05, 'STARTUP=>PROFIT': 1.4217046e-05, 'STARTUP=>FOUNDED_DATE': 1.2226829e-08, 'STARTUP=>REVENUE': 0.0001702866}\n",
            " entities: ('2015', 'Dhruv Kapoor') --> predicted relation: {'STARTUP=>FUNDING_AMOUNT': 1.9607335e-06, 'STARTUP=>INVESTOR_NAME': 3.888462e-05, 'STARTUP=>FUNDING_DATE': 2.0611535e-09, 'STARTUP=>FOUNDER_NAME': 3.5066825e-09, 'STARTUP=>VALUATION': 1.0957479e-05, 'STARTUP=>LOSS': 4.3323307e-06, 'STARTUP=>PROFIT_DATE': 1.6290145e-06, 'STARTUP=>PROFIT': 1.5078859e-06, 'STARTUP=>FOUNDED_DATE': 2.0611535e-09, 'STARTUP=>REVENUE': 9.773756e-06}\n",
            " entities: ('Dhruv Kapoor', '2015') --> predicted relation: {'STARTUP=>FUNDING_AMOUNT': 2.690759e-07, 'STARTUP=>INVESTOR_NAME': 2.0611535e-09, 'STARTUP=>FUNDING_DATE': 2.0830924e-09, 'STARTUP=>FOUNDER_NAME': 2.0611535e-09, 'STARTUP=>VALUATION': 3.143436e-05, 'STARTUP=>LOSS': 1.8546901e-06, 'STARTUP=>PROFIT_DATE': 1.1620649e-06, 'STARTUP=>PROFIT': 1.1296834e-06, 'STARTUP=>FOUNDED_DATE': 1.6309079e-05, 'STARTUP=>REVENUE': 1.6705691e-08}\n"
          ]
        }
      ],
      "source": [
        "for value, rel_dict in doc._.rel.items():\n",
        "  for sent in doc.sents:\n",
        "    for e in sent.ents:\n",
        "      for b in sent.ents:\n",
        "        if e.start == value[0] and b.start == value[1]:\n",
        "          if rel_dict['STARTUP=>FUNDING_DATE'] >=0.0:\n",
        "            print(f\" entities: {e.text, b.text} --> predicted relation: {rel_dict}\")"
      ]
    },
    {
      "cell_type": "code",
      "execution_count": null,
      "metadata": {
        "colab": {
          "base_uri": "https://localhost:8080/"
        },
        "id": "qW-SA3txxMgP",
        "outputId": "2e64a332-d586-4fcf-bd5b-10f9f68af5b8"
      },
      "outputs": [
        {
          "name": "stdout",
          "output_type": "stream",
          "text": [
            "It bagged $20 million FUNDING_AMOUNT in a Series B funding round led by Iron Pillar INVESTOR_NAME in August 2019 FUNDING_DATE and three months before that pocketed $11 million FUNDING_AMOUNT in its Series A financing.\n"
          ]
        }
      ],
      "source": [
        "print(sent)"
      ]
    },
    {
      "cell_type": "code",
      "execution_count": null,
      "metadata": {
        "colab": {
          "base_uri": "https://localhost:8080/"
        },
        "id": "qKkyvfzfxAVR",
        "outputId": "1999da03-987c-4951-c221-f75f83818961"
      },
      "outputs": [
        {
          "name": "stdout",
          "output_type": "stream",
          "text": [
            " entities: ('Licious', '$150 million') --> predicted relation: {'STARTUP=>FUNDING_AMOUNT': 0.0425998, 'STARTUP=>INVESTOR_NAME': 2.3134514e-09, 'STARTUP=>FUNDING_DATE': 8.188362e-09, 'STARTUP=>FOUNDER_NAME': 2.3210937e-06, 'STARTUP=>VALUATION': 0.00037677577, 'STARTUP=>LOSS': 2.4630062e-06, 'STARTUP=>PROFIT_DATE': 1.8323132e-06, 'STARTUP=>PROFIT': 5.06188e-06, 'STARTUP=>FOUNDED_DATE': 2.3413085e-07, 'STARTUP=>REVENUE': 4.40346e-06}\n",
            " entities: ('FreshToHome', 'October 2020') --> predicted relation: {'STARTUP=>FUNDING_AMOUNT': 0.046718884, 'STARTUP=>INVESTOR_NAME': 1.5148335e-05, 'STARTUP=>FUNDING_DATE': 0.9578003, 'STARTUP=>FOUNDER_NAME': 4.7441863e-06, 'STARTUP=>VALUATION': 0.00052546035, 'STARTUP=>LOSS': 4.469761e-05, 'STARTUP=>PROFIT_DATE': 1.4048548e-05, 'STARTUP=>PROFIT': 0.0004110491, 'STARTUP=>FOUNDED_DATE': 0.00010257923, 'STARTUP=>REVENUE': 0.00053465}\n"
          ]
        }
      ],
      "source": [
        "for value, rel_dict in doc._.rel.items():\n",
        "  for sent in doc.sents:\n",
        "    for e in sent.ents:\n",
        "      for b in sent.ents:\n",
        "        if e.start == value[0] and b.start == value[1]:\n",
        "          if rel_dict['STARTUP=>FUNDING_AMOUNT'] >=0.03 :\n",
        "            print(f\" entities: {e.text, b.text} --> predicted relation: {rel_dict}\")"
      ]
    },
    {
      "cell_type": "code",
      "execution_count": null,
      "metadata": {
        "id": "lkjiNUS_1Bm1"
      },
      "outputs": [],
      "source": []
    },
    {
      "cell_type": "code",
      "execution_count": null,
      "metadata": {
        "id": "pXYkTSIG1B3l"
      },
      "outputs": [],
      "source": []
    },
    {
      "cell_type": "code",
      "execution_count": null,
      "metadata": {
        "id": "y7BrsM_A1CB7"
      },
      "outputs": [],
      "source": [
        "#=====>TEST DATA EXPERIMENTS"
      ]
    },
    {
      "cell_type": "code",
      "execution_count": null,
      "metadata": {
        "colab": {
          "base_uri": "https://localhost:8080/"
        },
        "id": "qmLIngoq3fac",
        "outputId": "8a7cadc7-fe07-4f81-e16d-eca52d575cad"
      },
      "outputs": [
        {
          "name": "stdout",
          "output_type": "stream",
          "text": [
            "spans: [(4, 'Zilingo', 'STARTUP'), (9, '$226 million', 'FUNDING_AMOUNT'), (25, 'Sequoia Capital', 'INVESTOR_NAME'), (89, 'Burda Principal Investments', 'INVESTOR_NAME'), (99, 'Burda', 'INVESTOR_NAME'), (108, 'Zilingo', 'STARTUP'), (153, 'Zilingo', 'STARTUP'), (268, 'Zilingo', 'STARTUP'), (311, 'Ankiti Bose', 'STARTUP'), (331, '2015', 'FOUNDED_DATE'), (333, 'Dhruv Kapoor', 'FOUNDER_NAME'), (361, 'Bonito’', 'INVESTOR_NAME')]\n"
          ]
        }
      ],
      "source": [
        "import os\n",
        "os.chdir(\"/content/gdrive/MyDrive/Colab Notebooks/ProjectsExplotion/VCC_DATA/CustomNER\")\n",
        "import spacy\n",
        "nlp = spacy.load(\"model-best\")\n",
        "nlp.add_pipe('sentencizer')\n",
        "#nlp.add_pipe(nlp.create_pipe('sentencizer'))\n",
        "Text=['''Southeast Asian fashion startup Zilingo said it has raised $226 million in its latest funding round from existing backers such as venture capital firm Sequoia Capital, with Singapore’s Temasek Holdings joining as a new investor.', 'The Series D financing follows a $54 million fundraising last year, taking the total capital raised by the company to $308 million. The company declined to provide valuation.', 'The latest round included Singapore investment fund EDBI and previous investors Burda Principal Investments, a division of Germany’s Hubert Burda Media, and Belgian investment firm Sofina, Zilingo said in a statement on Tuesday.', 'The Singapore-headquartered company plans to use the funds to invest in infrastructure and technology to further integrate and digitize the fashion and beauty supply chain, it said.', 'Zilingo, whose main market for the consumer business is Indonesia, is expanding in countries such as Australia in 2019.', 'The company, which started as a fashion marketplace, has been rapidly growing its business-to-business (B2B) tools and platforms, which include providing value-added services to its merchants as well as a marketplace to help them source efficiently from manufacturers.', 'The company, which also acts as an affiliate for companies to provide financing to small firms on its platform, is now earning the bulk of its revenue from its B2B business.', 'Zilingo has grown its revenues by four times in the last 12 months, it said, but did not provide specific numbers.', '“We are pretty close to profitability and have a clear path to it,” Ankiti Bose, the company’s co-founder and CEO, told Reuters. Bose founded the company in 2015 with Dhruv Kapoor, its chief technology officer.', 'In Southeast Asia, local fashion e-commerce players such as Zalora, ‘Love, Bonito’ and JD.com-backed fashion retailer Pomelo compete with global platforms like ASOS. A study by Google and Temasek has forecast that e-commerce in Southeast Asia will exceed $100 billion in gross merchandise value by 2025 from over $23 billion in 2018.', 'Bose said purely selling to consumers would mean that the only way to win is through price wars and discounting.', '“Instead what we are trying to do is trying to lower the cost of procurement for these merchants and add services on that layer there, which is basically before it even gets to the merchant and they try to sell it online,” she added.', 'Share article on''']\n",
        "for doc in nlp.pipe(Text, disable=[\"tagger\"]):\n",
        "   print(f\"spans: {[(e.start, e.text, e.label_) for e in doc.ents]}\")"
      ]
    },
    {
      "cell_type": "code",
      "execution_count": null,
      "metadata": {
        "id": "60A8dDhv4IAz"
      },
      "outputs": [],
      "source": [
        "import os\n",
        "os.chdir(\"/content/gdrive/MyDrive/Colab Notebooks/ProjectsExplotion/VCC_DATA/tutorials/rel_component/scripts\")"
      ]
    },
    {
      "cell_type": "code",
      "execution_count": null,
      "metadata": {
        "id": "Qsrp3arD4QEc"
      },
      "outputs": [],
      "source": [
        "import random\n",
        "import typer\n",
        "from pathlib import Path\n",
        "import spacy\n",
        "from spacy.tokens import DocBin, Doc\n",
        "from spacy.training.example import Example\n",
        "from rel_pipe import make_relation_extractor, score_relations\n",
        "from rel_model import create_relation_model, create_classification_layer, create_instances, create_tensors\n",
        "# We load the relation extraction (REL) model\n",
        "nlp2 = spacy.load(\"/content/gdrive/MyDrive/Colab Notebooks/ProjectsExplotion/VCC_DATA/tutorials/rel_component/training/model-best\")\n",
        "for name, proc in nlp2.pipeline:\n",
        "  doc = proc(doc)"
      ]
    },
    {
      "cell_type": "code",
      "execution_count": null,
      "metadata": {
        "colab": {
          "base_uri": "https://localhost:8080/"
        },
        "id": "75yUjBZO4Y0D",
        "outputId": "4fc417d2-74a9-4f78-f350-7db430ab68b0"
      },
      "outputs": [
        {
          "name": "stdout",
          "output_type": "stream",
          "text": [
            " entities: ('Zilingo', 'Sequoia Capital') --> predicted relation: {'STARTUP=>FUNDING_AMOUNT': 6.069409e-06, 'STARTUP=>INVESTOR_NAME': 0.32234105, 'STARTUP=>FUNDING_DATE': 2.0611535e-09, 'STARTUP=>FOUNDER_NAME': 3.7067785e-08, 'STARTUP=>VALUATION': 5.3799386e-07, 'STARTUP=>LOSS': 5.735119e-06, 'STARTUP=>PROFIT_DATE': 6.131188e-07, 'STARTUP=>PROFIT': 1.8098753e-07, 'STARTUP=>FOUNDED_DATE': 2.0611535e-09, 'STARTUP=>REVENUE': 2.2474953e-07}\n"
          ]
        }
      ],
      "source": [
        "for value, rel_dict in doc._.rel.items():\n",
        "  for sent in doc.sents:\n",
        "    for e in sent.ents:\n",
        "      for b in sent.ents:\n",
        "        if e.start == value[0] and b.start == value[1]:\n",
        "          if rel_dict['STARTUP=>INVESTOR_NAME'] >=0.1 :\n",
        "            print(f\" entities: {e.text, b.text} --> predicted relation: {rel_dict}\")"
      ]
    },
    {
      "cell_type": "code",
      "execution_count": null,
      "metadata": {
        "colab": {
          "base_uri": "https://localhost:8080/"
        },
        "id": "g2-S6Wqi4e_U",
        "outputId": "8a1bd915-d038-4311-e2f8-c674def19c24"
      },
      "outputs": [
        {
          "name": "stdout",
          "output_type": "stream",
          "text": [
            " entities: ('$226 million', 'Sequoia Capital') --> predicted relation: {'STARTUP=>FUNDING_AMOUNT': 2.0611535e-09, 'STARTUP=>INVESTOR_NAME': 1.7036907e-06, 'STARTUP=>FUNDING_DATE': 2.0611535e-09, 'STARTUP=>FOUNDER_NAME': 6.7116474e-08, 'STARTUP=>VALUATION': 2.0611535e-09, 'STARTUP=>LOSS': 3.3247446e-08, 'STARTUP=>PROFIT_DATE': 2.0611535e-09, 'STARTUP=>PROFIT': 2.0611535e-09, 'STARTUP=>FOUNDED_DATE': 2.0611535e-09, 'STARTUP=>REVENUE': 4.6693913e-08}\n",
            " entities: ('$226 million', 'Temasek Holdings') --> predicted relation: {'STARTUP=>FUNDING_AMOUNT': 3.4494615e-08, 'STARTUP=>INVESTOR_NAME': 2.2344084e-06, 'STARTUP=>FUNDING_DATE': 2.0611535e-09, 'STARTUP=>FOUNDER_NAME': 7.453856e-08, 'STARTUP=>VALUATION': 3.5340233e-09, 'STARTUP=>LOSS': 7.830699e-08, 'STARTUP=>PROFIT_DATE': 2.0611535e-09, 'STARTUP=>PROFIT': 2.0611535e-09, 'STARTUP=>FOUNDED_DATE': 2.0611535e-09, 'STARTUP=>REVENUE': 2.1540714e-07}\n",
            " entities: ('Sequoia Capital', '$226 million') --> predicted relation: {'STARTUP=>FUNDING_AMOUNT': 3.1321847e-06, 'STARTUP=>INVESTOR_NAME': 2.0611535e-09, 'STARTUP=>FUNDING_DATE': 2.0611535e-09, 'STARTUP=>FOUNDER_NAME': 3.0407135e-09, 'STARTUP=>VALUATION': 2.0611535e-09, 'STARTUP=>LOSS': 1.3625401e-08, 'STARTUP=>PROFIT_DATE': 2.0611535e-09, 'STARTUP=>PROFIT': 5.5799636e-09, 'STARTUP=>FOUNDED_DATE': 2.0611535e-09, 'STARTUP=>REVENUE': 1.7372559e-08}\n",
            " entities: ('Sequoia Capital', 'Temasek Holdings') --> predicted relation: {'STARTUP=>FUNDING_AMOUNT': 2.7381786e-09, 'STARTUP=>INVESTOR_NAME': 2.0520577e-06, 'STARTUP=>FUNDING_DATE': 2.0611535e-09, 'STARTUP=>FOUNDER_NAME': 8.147963e-09, 'STARTUP=>VALUATION': 2.6081628e-09, 'STARTUP=>LOSS': 2.1259662e-08, 'STARTUP=>PROFIT_DATE': 2.0611535e-09, 'STARTUP=>PROFIT': 3.5407435e-09, 'STARTUP=>FOUNDED_DATE': 2.0611535e-09, 'STARTUP=>REVENUE': 1.1182241e-08}\n",
            " entities: ('Temasek Holdings', '$226 million') --> predicted relation: {'STARTUP=>FUNDING_AMOUNT': 4.8419843e-06, 'STARTUP=>INVESTOR_NAME': 2.0611535e-09, 'STARTUP=>FUNDING_DATE': 2.0611535e-09, 'STARTUP=>FOUNDER_NAME': 7.7704385e-09, 'STARTUP=>VALUATION': 1.1008057e-08, 'STARTUP=>LOSS': 1.3312224e-07, 'STARTUP=>PROFIT_DATE': 2.0611535e-09, 'STARTUP=>PROFIT': 7.650377e-09, 'STARTUP=>FOUNDED_DATE': 2.0611535e-09, 'STARTUP=>REVENUE': 7.826927e-07}\n",
            " entities: ('Temasek Holdings', 'Sequoia Capital') --> predicted relation: {'STARTUP=>FUNDING_AMOUNT': 2.0611535e-09, 'STARTUP=>INVESTOR_NAME': 3.8532275e-07, 'STARTUP=>FUNDING_DATE': 2.0611535e-09, 'STARTUP=>FOUNDER_NAME': 1.8748636e-08, 'STARTUP=>VALUATION': 2.1182507e-09, 'STARTUP=>LOSS': 8.818795e-08, 'STARTUP=>PROFIT_DATE': 2.0611535e-09, 'STARTUP=>PROFIT': 3.0737526e-09, 'STARTUP=>FOUNDED_DATE': 2.0611535e-09, 'STARTUP=>REVENUE': 1.0920897e-07}\n",
            " entities: ('Burda Principal Investments', 'Hubert Burda Media') --> predicted relation: {'STARTUP=>FUNDING_AMOUNT': 5.2476827e-09, 'STARTUP=>INVESTOR_NAME': 8.5095024e-08, 'STARTUP=>FUNDING_DATE': 2.0611535e-09, 'STARTUP=>FOUNDER_NAME': 1.5330856e-07, 'STARTUP=>VALUATION': 1.2660123e-08, 'STARTUP=>LOSS': 2.3447049e-07, 'STARTUP=>PROFIT_DATE': 4.6878608e-09, 'STARTUP=>PROFIT': 1.20408306e-08, 'STARTUP=>FOUNDED_DATE': 2.0611535e-09, 'STARTUP=>REVENUE': 8.335592e-08}\n",
            " entities: ('Hubert Burda Media', 'Burda Principal Investments') --> predicted relation: {'STARTUP=>FUNDING_AMOUNT': 1.2067822e-08, 'STARTUP=>INVESTOR_NAME': 2.1055757e-07, 'STARTUP=>FUNDING_DATE': 2.0611535e-09, 'STARTUP=>FOUNDER_NAME': 3.6021607e-08, 'STARTUP=>VALUATION': 5.0262723e-09, 'STARTUP=>LOSS': 3.3871237e-07, 'STARTUP=>PROFIT_DATE': 4.070034e-09, 'STARTUP=>PROFIT': 2.0611535e-09, 'STARTUP=>FOUNDED_DATE': 2.0611535e-09, 'STARTUP=>REVENUE': 9.990488e-08}\n",
            " entities: ('2015', 'Dhruv Kapoor') --> predicted relation: {'STARTUP=>FUNDING_AMOUNT': 3.5089098e-09, 'STARTUP=>INVESTOR_NAME': 2.4068866e-05, 'STARTUP=>FUNDING_DATE': 2.0611535e-09, 'STARTUP=>FOUNDER_NAME': 5.422449e-08, 'STARTUP=>VALUATION': 2.0611535e-09, 'STARTUP=>LOSS': 5.881008e-08, 'STARTUP=>PROFIT_DATE': 2.0611535e-09, 'STARTUP=>PROFIT': 2.852214e-08, 'STARTUP=>FOUNDED_DATE': 2.0611535e-09, 'STARTUP=>REVENUE': 1.7519238e-08}\n",
            " entities: ('Dhruv Kapoor', '2015') --> predicted relation: {'STARTUP=>FUNDING_AMOUNT': 2.3294846e-09, 'STARTUP=>INVESTOR_NAME': 2.0611535e-09, 'STARTUP=>FUNDING_DATE': 2.0611535e-09, 'STARTUP=>FOUNDER_NAME': 2.0611535e-09, 'STARTUP=>VALUATION': 3.4551753e-09, 'STARTUP=>LOSS': 7.274844e-08, 'STARTUP=>PROFIT_DATE': 2.0611535e-09, 'STARTUP=>PROFIT': 4.2546276e-08, 'STARTUP=>FOUNDED_DATE': 2.5278166e-06, 'STARTUP=>REVENUE': 2.0611535e-09}\n"
          ]
        }
      ],
      "source": [
        "for value, rel_dict in doc._.rel.items():\n",
        "  for sent in doc.sents:\n",
        "    for e in sent.ents:\n",
        "      for b in sent.ents:\n",
        "        if e.start == value[0] and b.start == value[1]:\n",
        "          if rel_dict['STARTUP=>FUNDING_AMOUNT'] >=0:\n",
        "            print(f\" entities: {e.text, b.text} --> predicted relation: {rel_dict}\")"
      ]
    },
    {
      "cell_type": "code",
      "execution_count": null,
      "metadata": {
        "colab": {
          "base_uri": "https://localhost:8080/"
        },
        "id": "7lJ0ep6O_7_u",
        "outputId": "16940b2b-d39c-41f6-ed87-ccbaf2e6274c"
      },
      "outputs": [
        {
          "name": "stdout",
          "output_type": "stream",
          "text": [
            "dict_items([((4, 9), {'STARTUP=>FUNDING_AMOUNT': 0.030174108, 'STARTUP=>INVESTOR_NAME': 5.9167303e-07, 'STARTUP=>FUNDING_DATE': 2.0712278e-08, 'STARTUP=>FOUNDER_NAME': 3.2478944e-08, 'STARTUP=>VALUATION': 6.064676e-06, 'STARTUP=>LOSS': 1.0654478e-06, 'STARTUP=>PROFIT_DATE': 1.4899249e-06, 'STARTUP=>PROFIT': 1.3611358e-06, 'STARTUP=>FOUNDED_DATE': 2.0611535e-09, 'STARTUP=>REVENUE': 1.983946e-06}), ((4, 25), {'STARTUP=>FUNDING_AMOUNT': 6.069409e-06, 'STARTUP=>INVESTOR_NAME': 0.32234105, 'STARTUP=>FUNDING_DATE': 2.0611535e-09, 'STARTUP=>FOUNDER_NAME': 3.7067785e-08, 'STARTUP=>VALUATION': 5.3799386e-07, 'STARTUP=>LOSS': 5.735119e-06, 'STARTUP=>PROFIT_DATE': 6.131188e-07, 'STARTUP=>PROFIT': 1.8098753e-07, 'STARTUP=>FOUNDED_DATE': 2.0611535e-09, 'STARTUP=>REVENUE': 2.2474953e-07}), ((4, 89), {'STARTUP=>FUNDING_AMOUNT': 5.7802987e-05, 'STARTUP=>INVESTOR_NAME': 0.03242794, 'STARTUP=>FUNDING_DATE': 7.256257e-09, 'STARTUP=>FOUNDER_NAME': 2.5120052e-08, 'STARTUP=>VALUATION': 8.597837e-07, 'STARTUP=>LOSS': 6.1245355e-06, 'STARTUP=>PROFIT_DATE': 5.570142e-06, 'STARTUP=>PROFIT': 3.5803006e-07, 'STARTUP=>FOUNDED_DATE': 2.323051e-09, 'STARTUP=>REVENUE': 9.834301e-07}), ((4, 99), {'STARTUP=>FUNDING_AMOUNT': 0.00012588441, 'STARTUP=>INVESTOR_NAME': 0.16762887, 'STARTUP=>FUNDING_DATE': 4.269983e-09, 'STARTUP=>FOUNDER_NAME': 6.119236e-08, 'STARTUP=>VALUATION': 1.5263954e-06, 'STARTUP=>LOSS': 3.203385e-05, 'STARTUP=>PROFIT_DATE': 1.1522441e-05, 'STARTUP=>PROFIT': 1.3525554e-06, 'STARTUP=>FOUNDED_DATE': 3.0264564e-09, 'STARTUP=>REVENUE': 1.1391127e-06}), ((9, 4), {'STARTUP=>FUNDING_AMOUNT': 2.087328e-07, 'STARTUP=>INVESTOR_NAME': 2.0611535e-09, 'STARTUP=>FUNDING_DATE': 2.2068036e-09, 'STARTUP=>FOUNDER_NAME': 4.0751897e-06, 'STARTUP=>VALUATION': 1.0692476e-06, 'STARTUP=>LOSS': 8.942724e-06, 'STARTUP=>PROFIT_DATE': 9.517263e-07, 'STARTUP=>PROFIT': 4.363809e-05, 'STARTUP=>FOUNDED_DATE': 4.0225863e-09, 'STARTUP=>REVENUE': 1.3164964e-07}), ((9, 25), {'STARTUP=>FUNDING_AMOUNT': 5.0946866e-08, 'STARTUP=>INVESTOR_NAME': 4.006833e-06, 'STARTUP=>FUNDING_DATE': 2.0611535e-09, 'STARTUP=>FOUNDER_NAME': 6.032242e-08, 'STARTUP=>VALUATION': 7.8487454e-07, 'STARTUP=>LOSS': 1.2581976e-05, 'STARTUP=>PROFIT_DATE': 4.4324793e-07, 'STARTUP=>PROFIT': 1.0254679e-06, 'STARTUP=>FOUNDED_DATE': 2.0611535e-09, 'STARTUP=>REVENUE': 6.243916e-07}), ((9, 89), {'STARTUP=>FUNDING_AMOUNT': 4.852283e-07, 'STARTUP=>INVESTOR_NAME': 2.8231497e-07, 'STARTUP=>FUNDING_DATE': 2.0611535e-09, 'STARTUP=>FOUNDER_NAME': 4.0878916e-08, 'STARTUP=>VALUATION': 1.2543342e-06, 'STARTUP=>LOSS': 1.3436303e-05, 'STARTUP=>PROFIT_DATE': 4.026894e-06, 'STARTUP=>PROFIT': 2.028586e-06, 'STARTUP=>FOUNDED_DATE': 2.2185784e-09, 'STARTUP=>REVENUE': 2.7321287e-06}), ((9, 99), {'STARTUP=>FUNDING_AMOUNT': 1.0568118e-06, 'STARTUP=>INVESTOR_NAME': 1.6964012e-06, 'STARTUP=>FUNDING_DATE': 2.0611535e-09, 'STARTUP=>FOUNDER_NAME': 9.958147e-08, 'STARTUP=>VALUATION': 2.226846e-06, 'STARTUP=>LOSS': 7.0275106e-05, 'STARTUP=>PROFIT_DATE': 8.3300565e-06, 'STARTUP=>PROFIT': 7.663481e-06, 'STARTUP=>FOUNDED_DATE': 2.8903502e-09, 'STARTUP=>REVENUE': 3.1646389e-06}), ((9, 108), {'STARTUP=>FUNDING_AMOUNT': 1.04985574e-07, 'STARTUP=>INVESTOR_NAME': 2.0611535e-09, 'STARTUP=>FUNDING_DATE': 2.8714264e-09, 'STARTUP=>FOUNDER_NAME': 2.1020296e-06, 'STARTUP=>VALUATION': 3.0101774e-06, 'STARTUP=>LOSS': 7.174805e-06, 'STARTUP=>PROFIT_DATE': 8.974265e-07, 'STARTUP=>PROFIT': 3.8560476e-05, 'STARTUP=>FOUNDED_DATE': 1.5614868e-08, 'STARTUP=>REVENUE': 2.8806772e-07}), ((25, 4), {'STARTUP=>FUNDING_AMOUNT': 1.11068054e-07, 'STARTUP=>INVESTOR_NAME': 2.0611535e-09, 'STARTUP=>FUNDING_DATE': 2.0611535e-09, 'STARTUP=>FOUNDER_NAME': 7.56972e-07, 'STARTUP=>VALUATION': 5.8755984e-07, 'STARTUP=>LOSS': 1.6574569e-06, 'STARTUP=>PROFIT_DATE': 3.6131985e-07, 'STARTUP=>PROFIT': 7.075266e-05, 'STARTUP=>FOUNDED_DATE': 4.8102478e-09, 'STARTUP=>REVENUE': 1.0395024e-07}), ((25, 9), {'STARTUP=>FUNDING_AMOUNT': 0.00013894727, 'STARTUP=>INVESTOR_NAME': 2.0611535e-09, 'STARTUP=>FUNDING_DATE': 2.0611535e-09, 'STARTUP=>FOUNDER_NAME': 9.817734e-09, 'STARTUP=>VALUATION': 4.8618717e-06, 'STARTUP=>LOSS': 4.33223e-07, 'STARTUP=>PROFIT_DATE': 4.08928e-07, 'STARTUP=>PROFIT': 1.2504296e-05, 'STARTUP=>FOUNDED_DATE': 2.0611535e-09, 'STARTUP=>REVENUE': 4.352042e-06}), ((25, 89), {'STARTUP=>FUNDING_AMOUNT': 2.5819267e-07, 'STARTUP=>INVESTOR_NAME': 3.8221148e-07, 'STARTUP=>FUNDING_DATE': 2.0611535e-09, 'STARTUP=>FOUNDER_NAME': 7.593303e-09, 'STARTUP=>VALUATION': 6.892638e-07, 'STARTUP=>LOSS': 2.490312e-06, 'STARTUP=>PROFIT_DATE': 1.5287991e-06, 'STARTUP=>PROFIT': 3.2891314e-06, 'STARTUP=>FOUNDED_DATE': 2.6529974e-09, 'STARTUP=>REVENUE': 2.1572816e-06}), ((25, 99), {'STARTUP=>FUNDING_AMOUNT': 5.6233654e-07, 'STARTUP=>INVESTOR_NAME': 2.2966683e-06, 'STARTUP=>FUNDING_DATE': 2.0611535e-09, 'STARTUP=>FOUNDER_NAME': 1.8497333e-08, 'STARTUP=>VALUATION': 1.2236662e-06, 'STARTUP=>LOSS': 1.3025549e-05, 'STARTUP=>PROFIT_DATE': 3.1624913e-06, 'STARTUP=>PROFIT': 1.2425459e-05, 'STARTUP=>FOUNDED_DATE': 3.456309e-09, 'STARTUP=>REVENUE': 2.4987933e-06}), ((25, 108), {'STARTUP=>FUNDING_AMOUNT': 5.586365e-08, 'STARTUP=>INVESTOR_NAME': 2.0611535e-09, 'STARTUP=>FUNDING_DATE': 2.0611535e-09, 'STARTUP=>FOUNDER_NAME': 3.9045418e-07, 'STARTUP=>VALUATION': 1.6541171e-06, 'STARTUP=>LOSS': 1.329789e-06, 'STARTUP=>PROFIT_DATE': 3.4070544e-07, 'STARTUP=>PROFIT': 6.25202e-05, 'STARTUP=>FOUNDED_DATE': 1.8672408e-08, 'STARTUP=>REVENUE': 2.2745759e-07}), ((89, 4), {'STARTUP=>FUNDING_AMOUNT': 1.2076784e-07, 'STARTUP=>INVESTOR_NAME': 2.0611535e-09, 'STARTUP=>FUNDING_DATE': 2.3954856e-09, 'STARTUP=>FOUNDER_NAME': 1.8133322e-06, 'STARTUP=>VALUATION': 2.0907578e-06, 'STARTUP=>LOSS': 2.6413954e-05, 'STARTUP=>PROFIT_DATE': 2.7212488e-06, 'STARTUP=>PROFIT': 9.4162235e-05, 'STARTUP=>FOUNDED_DATE': 5.56813e-09, 'STARTUP=>REVENUE': 5.6460374e-07}), ((89, 9), {'STARTUP=>FUNDING_AMOUNT': 0.00015107982, 'STARTUP=>INVESTOR_NAME': 2.0611535e-09, 'STARTUP=>FUNDING_DATE': 2.0611535e-09, 'STARTUP=>FOUNDER_NAME': 2.3518437e-08, 'STARTUP=>VALUATION': 1.7300203e-05, 'STARTUP=>LOSS': 6.904144e-06, 'STARTUP=>PROFIT_DATE': 3.0798071e-06, 'STARTUP=>PROFIT': 1.6641865e-05, 'STARTUP=>FOUNDED_DATE': 2.0611535e-09, 'STARTUP=>REVENUE': 2.3637629e-05}), ((89, 25), {'STARTUP=>FUNDING_AMOUNT': 2.9476682e-08, 'STARTUP=>INVESTOR_NAME': 2.9340597e-05, 'STARTUP=>FUNDING_DATE': 2.0611535e-09, 'STARTUP=>FOUNDER_NAME': 2.6841382e-08, 'STARTUP=>VALUATION': 1.534705e-06, 'STARTUP=>LOSS': 3.716278e-05, 'STARTUP=>PROFIT_DATE': 1.2673723e-06, 'STARTUP=>PROFIT': 2.2128588e-06, 'STARTUP=>FOUNDED_DATE': 2.0611535e-09, 'STARTUP=>REVENUE': 2.6778189e-06}), ((89, 99), {'STARTUP=>FUNDING_AMOUNT': 6.114464e-07, 'STARTUP=>INVESTOR_NAME': 1.2422319e-05, 'STARTUP=>FUNDING_DATE': 2.0611535e-09, 'STARTUP=>FOUNDER_NAME': 4.4310294e-08, 'STARTUP=>VALUATION': 4.354259e-06, 'STARTUP=>LOSS': 0.0002075456, 'STARTUP=>PROFIT_DATE': 2.38177e-05, 'STARTUP=>PROFIT': 1.6536958e-05, 'STARTUP=>FOUNDED_DATE': 4.0008783e-09, 'STARTUP=>REVENUE': 1.35720275e-05}), ((89, 108), {'STARTUP=>FUNDING_AMOUNT': 6.0742224e-08, 'STARTUP=>INVESTOR_NAME': 5.4141065e-09, 'STARTUP=>FUNDING_DATE': 3.1169332e-09, 'STARTUP=>FOUNDER_NAME': 9.3533646e-07, 'STARTUP=>VALUATION': 5.8859396e-06, 'STARTUP=>LOSS': 2.1192083e-05, 'STARTUP=>PROFIT_DATE': 2.5659936e-06, 'STARTUP=>PROFIT': 8.320617e-05, 'STARTUP=>FOUNDED_DATE': 2.1614357e-08, 'STARTUP=>REVENUE': 1.2354294e-06}), ((89, 153), {'STARTUP=>FUNDING_AMOUNT': 3.0164994e-08, 'STARTUP=>INVESTOR_NAME': 2.0611535e-09, 'STARTUP=>FUNDING_DATE': 2.0611535e-09, 'STARTUP=>FOUNDER_NAME': 5.660907e-07, 'STARTUP=>VALUATION': 3.6205186e-06, 'STARTUP=>LOSS': 3.907834e-05, 'STARTUP=>PROFIT_DATE': 5.135007e-06, 'STARTUP=>PROFIT': 9.118406e-06, 'STARTUP=>FOUNDED_DATE': 2.2631275e-07, 'STARTUP=>REVENUE': 4.1781897e-07}), ((99, 4), {'STARTUP=>FUNDING_AMOUNT': 5.8590643e-08, 'STARTUP=>INVESTOR_NAME': 2.0611535e-09, 'STARTUP=>FUNDING_DATE': 2.0611535e-09, 'STARTUP=>FOUNDER_NAME': 5.1295456e-07, 'STARTUP=>VALUATION': 3.0425829e-06, 'STARTUP=>LOSS': 2.9573304e-05, 'STARTUP=>PROFIT_DATE': 1.3457837e-06, 'STARTUP=>PROFIT': 0.00036542132, 'STARTUP=>FOUNDED_DATE': 2.0611535e-09, 'STARTUP=>REVENUE': 3.279663e-06}), ((99, 9), {'STARTUP=>FUNDING_AMOUNT': 7.330187e-05, 'STARTUP=>INVESTOR_NAME': 2.0611535e-09, 'STARTUP=>FUNDING_DATE': 2.0611535e-09, 'STARTUP=>FOUNDER_NAME': 6.652876e-09, 'STARTUP=>VALUATION': 2.5176056e-05, 'STARTUP=>LOSS': 7.729953e-06, 'STARTUP=>PROFIT_DATE': 1.5231077e-06, 'STARTUP=>PROFIT': 6.4597625e-05, 'STARTUP=>FOUNDED_DATE': 2.0611535e-09, 'STARTUP=>REVENUE': 0.00013729047}), ((99, 25), {'STARTUP=>FUNDING_AMOUNT': 1.4300613e-08, 'STARTUP=>INVESTOR_NAME': 6.7032895e-05, 'STARTUP=>FUNDING_DATE': 2.0611535e-09, 'STARTUP=>FOUNDER_NAME': 7.592897e-09, 'STARTUP=>VALUATION': 2.2333857e-06, 'STARTUP=>LOSS': 4.160773e-05, 'STARTUP=>PROFIT_DATE': 6.267738e-07, 'STARTUP=>PROFIT': 8.589882e-06, 'STARTUP=>FOUNDED_DATE': 2.0611535e-09, 'STARTUP=>REVENUE': 1.5554737e-05}), ((99, 89), {'STARTUP=>FUNDING_AMOUNT': 1.3620158e-07, 'STARTUP=>INVESTOR_NAME': 4.723307e-06, 'STARTUP=>FUNDING_DATE': 2.0611535e-09, 'STARTUP=>FOUNDER_NAME': 5.145526e-09, 'STARTUP=>VALUATION': 3.5692524e-06, 'STARTUP=>LOSS': 4.443297e-05, 'STARTUP=>PROFIT_DATE': 5.694196e-06, 'STARTUP=>PROFIT': 1.6992453e-05, 'STARTUP=>FOUNDED_DATE': 2.0611535e-09, 'STARTUP=>REVENUE': 6.805878e-05}), ((99, 108), {'STARTUP=>FUNDING_AMOUNT': 2.9469147e-08, 'STARTUP=>INVESTOR_NAME': 1.23698e-08, 'STARTUP=>FUNDING_DATE': 2.0611535e-09, 'STARTUP=>FOUNDER_NAME': 2.645874e-07, 'STARTUP=>VALUATION': 8.565554e-06, 'STARTUP=>LOSS': 2.3726861e-05, 'STARTUP=>PROFIT_DATE': 1.2690014e-06, 'STARTUP=>PROFIT': 0.00032291457, 'STARTUP=>FOUNDED_DATE': 3.380013e-09, 'STARTUP=>REVENUE': 7.176331e-06}), ((99, 153), {'STARTUP=>FUNDING_AMOUNT': 1.4634492e-08, 'STARTUP=>INVESTOR_NAME': 2.0611535e-09, 'STARTUP=>FUNDING_DATE': 2.0611535e-09, 'STARTUP=>FOUNDER_NAME': 1.6013549e-07, 'STARTUP=>VALUATION': 5.268785e-06, 'STARTUP=>LOSS': 4.375239e-05, 'STARTUP=>PROFIT_DATE': 2.539504e-06, 'STARTUP=>PROFIT': 3.5395115e-05, 'STARTUP=>FOUNDED_DATE': 3.5390503e-08, 'STARTUP=>REVENUE': 2.4270214e-06}), ((108, 9), {'STARTUP=>FUNDING_AMOUNT': 0.004683954, 'STARTUP=>INVESTOR_NAME': 3.9791903e-08, 'STARTUP=>FUNDING_DATE': 2.042051e-08, 'STARTUP=>FOUNDER_NAME': 1.4265668e-06, 'STARTUP=>VALUATION': 2.8665616e-05, 'STARTUP=>LOSS': 6.1461105e-07, 'STARTUP=>PROFIT_DATE': 1.4964717e-05, 'STARTUP=>PROFIT': 7.0147403e-06, 'STARTUP=>FOUNDED_DATE': 4.7000984e-07, 'STARTUP=>REVENUE': 1.95546e-06}), ((108, 25), {'STARTUP=>FUNDING_AMOUNT': 9.180357e-07, 'STARTUP=>INVESTOR_NAME': 0.030998511, 'STARTUP=>FUNDING_DATE': 2.0611535e-09, 'STARTUP=>FOUNDER_NAME': 1.6281136e-06, 'STARTUP=>VALUATION': 2.5429551e-06, 'STARTUP=>LOSS': 3.3083531e-06, 'STARTUP=>PROFIT_DATE': 6.158166e-06, 'STARTUP=>PROFIT': 9.3274e-07, 'STARTUP=>FOUNDED_DATE': 1.7710497e-07, 'STARTUP=>REVENUE': 2.2152248e-07}), ((108, 89), {'STARTUP=>FUNDING_AMOUNT': 8.743443e-06, 'STARTUP=>INVESTOR_NAME': 0.0022488988, 'STARTUP=>FUNDING_DATE': 7.1540263e-09, 'STARTUP=>FOUNDER_NAME': 1.1033301e-06, 'STARTUP=>VALUATION': 4.0639848e-06, 'STARTUP=>LOSS': 3.5329854e-06, 'STARTUP=>PROFIT_DATE': 5.5944056e-05, 'STARTUP=>PROFIT': 1.845151e-06, 'STARTUP=>FOUNDED_DATE': 1.0130707e-06, 'STARTUP=>REVENUE': 9.693098e-07}), ((108, 99), {'STARTUP=>FUNDING_AMOUNT': 1.904277e-05, 'STARTUP=>INVESTOR_NAME': 0.013362891, 'STARTUP=>FUNDING_DATE': 4.209833e-09, 'STARTUP=>FOUNDER_NAME': 2.68772e-06, 'STARTUP=>VALUATION': 7.2148764e-06, 'STARTUP=>LOSS': 1.8479142e-05, 'STARTUP=>PROFIT_DATE': 0.000115720104, 'STARTUP=>PROFIT': 6.970521e-06, 'STARTUP=>FOUNDED_DATE': 1.3198144e-06, 'STARTUP=>REVENUE': 1.1227569e-06}), ((108, 153), {'STARTUP=>FUNDING_AMOUNT': 9.394676e-07, 'STARTUP=>INVESTOR_NAME': 7.343748e-07, 'STARTUP=>FUNDING_DATE': 2.578855e-08, 'STARTUP=>FOUNDER_NAME': 3.4335844e-05, 'STARTUP=>VALUATION': 5.999088e-06, 'STARTUP=>LOSS': 3.4788848e-06, 'STARTUP=>PROFIT_DATE': 2.4950667e-05, 'STARTUP=>PROFIT': 3.8435014e-06, 'STARTUP=>FOUNDED_DATE': 7.4650925e-05, 'STARTUP=>REVENUE': 3.4564092e-08}), ((153, 89), {'STARTUP=>FUNDING_AMOUNT': 3.392734e-06, 'STARTUP=>INVESTOR_NAME': 0.00083821017, 'STARTUP=>FUNDING_DATE': 2.0611535e-09, 'STARTUP=>FOUNDER_NAME': 8.9300244e-07, 'STARTUP=>VALUATION': 8.1631e-06, 'STARTUP=>LOSS': 5.2581026e-06, 'STARTUP=>PROFIT_DATE': 1.3816972e-05, 'STARTUP=>PROFIT': 3.2038974e-06, 'STARTUP=>FOUNDED_DATE': 3.1978573e-08, 'STARTUP=>REVENUE': 1.6879259e-06}), ((153, 99), {'STARTUP=>FUNDING_AMOUNT': 7.3892397e-06, 'STARTUP=>INVESTOR_NAME': 0.0050156596, 'STARTUP=>FUNDING_DATE': 2.0611535e-09, 'STARTUP=>FOUNDER_NAME': 2.1753588e-06, 'STARTUP=>VALUATION': 1.4492045e-05, 'STARTUP=>LOSS': 2.7502127e-05, 'STARTUP=>PROFIT_DATE': 2.8581735e-05, 'STARTUP=>PROFIT': 1.2103481e-05, 'STARTUP=>FOUNDED_DATE': 4.1661494e-08, 'STARTUP=>REVENUE': 1.9551355e-06}), ((153, 108), {'STARTUP=>FUNDING_AMOUNT': 7.340652e-07, 'STARTUP=>INVESTOR_NAME': 2.1969936e-06, 'STARTUP=>FUNDING_DATE': 1.0145857e-08, 'STARTUP=>FOUNDER_NAME': 4.5916946e-05, 'STARTUP=>VALUATION': 1.9589785e-05, 'STARTUP=>LOSS': 2.8077457e-06, 'STARTUP=>PROFIT_DATE': 3.079258e-06, 'STARTUP=>PROFIT': 6.090021e-05, 'STARTUP=>FOUNDED_DATE': 2.250732e-07, 'STARTUP=>REVENUE': 1.7796981e-07}), ((268, 311), {'STARTUP=>FUNDING_AMOUNT': 6.855578e-05, 'STARTUP=>INVESTOR_NAME': 0.12811531, 'STARTUP=>FUNDING_DATE': 1.9343697e-07, 'STARTUP=>FOUNDER_NAME': 5.2214104e-06, 'STARTUP=>VALUATION': 2.7827977e-05, 'STARTUP=>LOSS': 5.8517555e-05, 'STARTUP=>PROFIT_DATE': 2.539807e-06, 'STARTUP=>PROFIT': 2.1872407e-05, 'STARTUP=>FOUNDED_DATE': 4.1182933e-09, 'STARTUP=>REVENUE': 2.0573279e-07}), ((268, 331), {'STARTUP=>FUNDING_AMOUNT': 2.924673e-05, 'STARTUP=>INVESTOR_NAME': 2.149745e-05, 'STARTUP=>FUNDING_DATE': 1.3451148e-07, 'STARTUP=>FOUNDER_NAME': 5.4866685e-09, 'STARTUP=>VALUATION': 5.6290835e-05, 'STARTUP=>LOSS': 1.3923819e-06, 'STARTUP=>PROFIT_DATE': 2.7054489e-06, 'STARTUP=>PROFIT': 3.5257892e-06, 'STARTUP=>FOUNDED_DATE': 5.3656036e-05, 'STARTUP=>REVENUE': 3.4336067e-09}), ((268, 333), {'STARTUP=>FUNDING_AMOUNT': 1.3230644e-05, 'STARTUP=>INVESTOR_NAME': 0.078564554, 'STARTUP=>FUNDING_DATE': 1.3171225e-08, 'STARTUP=>FOUNDER_NAME': 2.7928627e-07, 'STARTUP=>VALUATION': 1.1651061e-05, 'STARTUP=>LOSS': 9.991676e-06, 'STARTUP=>PROFIT_DATE': 2.496733e-06, 'STARTUP=>PROFIT': 1.5679543e-05, 'STARTUP=>FOUNDED_DATE': 2.0611535e-09, 'STARTUP=>REVENUE': 2.2038063e-07}), ((268, 361), {'STARTUP=>FUNDING_AMOUNT': 0.00030864187, 'STARTUP=>INVESTOR_NAME': 0.30627725, 'STARTUP=>FUNDING_DATE': 3.5180594e-08, 'STARTUP=>FOUNDER_NAME': 4.9600715e-07, 'STARTUP=>VALUATION': 8.982843e-05, 'STARTUP=>LOSS': 2.6804073e-05, 'STARTUP=>PROFIT_DATE': 6.0648554e-06, 'STARTUP=>PROFIT': 5.4207608e-06, 'STARTUP=>FOUNDED_DATE': 6.823049e-09, 'STARTUP=>REVENUE': 1.344212e-07}), ((311, 268), {'STARTUP=>FUNDING_AMOUNT': 1.0014256e-06, 'STARTUP=>INVESTOR_NAME': 3.2904445e-08, 'STARTUP=>FUNDING_DATE': 2.2375627e-08, 'STARTUP=>FOUNDER_NAME': 4.367119e-05, 'STARTUP=>VALUATION': 2.938506e-05, 'STARTUP=>LOSS': 0.00035520215, 'STARTUP=>PROFIT_DATE': 9.794843e-06, 'STARTUP=>PROFIT': 0.00018472307, 'STARTUP=>FOUNDED_DATE': 1.4509206e-05, 'STARTUP=>REVENUE': 3.7765165e-07}), ((311, 331), {'STARTUP=>FUNDING_AMOUNT': 2.6763047e-07, 'STARTUP=>INVESTOR_NAME': 2.0611535e-09, 'STARTUP=>FUNDING_DATE': 1.9296724e-08, 'STARTUP=>FOUNDER_NAME': 3.5043037e-08, 'STARTUP=>VALUATION': 2.1372103e-05, 'STARTUP=>LOSS': 3.4474663e-06, 'STARTUP=>PROFIT_DATE': 4.6659247e-06, 'STARTUP=>PROFIT': 1.8489982e-05, 'STARTUP=>FOUNDED_DATE': 0.0029525356, 'STARTUP=>REVENUE': 3.8300506e-08}), ((311, 333), {'STARTUP=>FUNDING_AMOUNT': 1.2106825e-07, 'STARTUP=>INVESTOR_NAME': 6.8150066e-06, 'STARTUP=>FUNDING_DATE': 2.0611535e-09, 'STARTUP=>FOUNDER_NAME': 1.783781e-06, 'STARTUP=>VALUATION': 4.4234653e-06, 'STARTUP=>LOSS': 2.473859e-05, 'STARTUP=>PROFIT_DATE': 4.3059695e-06, 'STARTUP=>PROFIT': 8.222268e-05, 'STARTUP=>FOUNDED_DATE': 3.6294647e-08, 'STARTUP=>REVENUE': 2.458245e-06}), ((311, 361), {'STARTUP=>FUNDING_AMOUNT': 2.8250968e-06, 'STARTUP=>INVESTOR_NAME': 3.5287336e-05, 'STARTUP=>FUNDING_DATE': 5.0469358e-09, 'STARTUP=>FOUNDER_NAME': 3.1679606e-06, 'STARTUP=>VALUATION': 3.41061e-05, 'STARTUP=>LOSS': 6.636303e-05, 'STARTUP=>PROFIT_DATE': 1.0459685e-05, 'STARTUP=>PROFIT': 2.8427388e-05, 'STARTUP=>FOUNDED_DATE': 3.7654218e-07, 'STARTUP=>REVENUE': 1.4994096e-06}), ((331, 268), {'STARTUP=>FUNDING_AMOUNT': 1.1840099e-06, 'STARTUP=>INVESTOR_NAME': 2.4896009e-08, 'STARTUP=>FUNDING_DATE': 3.3583694e-09, 'STARTUP=>FOUNDER_NAME': 1.580085e-07, 'STARTUP=>VALUATION': 2.2939492e-05, 'STARTUP=>LOSS': 4.2934174e-05, 'STARTUP=>PROFIT_DATE': 3.1237578e-06, 'STARTUP=>PROFIT': 2.6095556e-06, 'STARTUP=>FOUNDED_DATE': 1.4794693e-08, 'STARTUP=>REVENUE': 1.6035573e-07}), ((331, 311), {'STARTUP=>FUNDING_AMOUNT': 7.417484e-07, 'STARTUP=>INVESTOR_NAME': 8.886274e-06, 'STARTUP=>FUNDING_DATE': 4.1650665e-09, 'STARTUP=>FOUNDER_NAME': 1.2065618e-07, 'STARTUP=>VALUATION': 8.247775e-06, 'STARTUP=>LOSS': 1.7508002e-05, 'STARTUP=>PROFIT_DATE': 1.3969401e-06, 'STARTUP=>PROFIT': 1.6201616e-06, 'STARTUP=>FOUNDED_DATE': 2.0611535e-09, 'STARTUP=>REVENUE': 9.744268e-07}), ((331, 333), {'STARTUP=>FUNDING_AMOUNT': 1.4314193e-07, 'STARTUP=>INVESTOR_NAME': 5.1563434e-06, 'STARTUP=>FUNDING_DATE': 2.0611535e-09, 'STARTUP=>FOUNDER_NAME': 6.4537993e-09, 'STARTUP=>VALUATION': 3.4531654e-06, 'STARTUP=>LOSS': 2.9893367e-06, 'STARTUP=>PROFIT_DATE': 1.3732498e-06, 'STARTUP=>PROFIT': 1.1614246e-06, 'STARTUP=>FOUNDED_DATE': 2.0611535e-09, 'STARTUP=>REVENUE': 1.0438054e-06}), ((331, 361), {'STARTUP=>FUNDING_AMOUNT': 3.3401789e-06, 'STARTUP=>INVESTOR_NAME': 2.6699192e-05, 'STARTUP=>FUNDING_DATE': 2.0611535e-09, 'STARTUP=>FOUNDER_NAME': 1.1461643e-08, 'STARTUP=>VALUATION': 2.6624952e-05, 'STARTUP=>LOSS': 8.019432e-06, 'STARTUP=>PROFIT_DATE': 3.3357862e-06, 'STARTUP=>PROFIT': 4.0152563e-07, 'STARTUP=>FOUNDED_DATE': 2.0611535e-09, 'STARTUP=>REVENUE': 6.3666954e-07}), ((333, 268), {'STARTUP=>FUNDING_AMOUNT': 5.0078444e-07, 'STARTUP=>INVESTOR_NAME': 1.1963729e-08, 'STARTUP=>FUNDING_DATE': 2.0611535e-09, 'STARTUP=>FOUNDER_NAME': 3.3951832e-07, 'STARTUP=>VALUATION': 7.0773867e-06, 'STARTUP=>LOSS': 6.9514215e-05, 'STARTUP=>PROFIT_DATE': 9.327035e-07, 'STARTUP=>PROFIT': 8.900531e-06, 'STARTUP=>FOUNDED_DATE': 1.04660884e-07, 'STARTUP=>REVENUE': 3.7874806e-08}), ((333, 311), {'STARTUP=>FUNDING_AMOUNT': 3.1372682e-07, 'STARTUP=>INVESTOR_NAME': 4.270313e-06, 'STARTUP=>FUNDING_DATE': 2.0611535e-09, 'STARTUP=>FOUNDER_NAME': 2.5925783e-07, 'STARTUP=>VALUATION': 2.5446195e-06, 'STARTUP=>LOSS': 2.8347475e-05, 'STARTUP=>PROFIT_DATE': 4.1710277e-07, 'STARTUP=>PROFIT': 5.525962e-06, 'STARTUP=>FOUNDED_DATE': 2.0611535e-09, 'STARTUP=>REVENUE': 2.3015107e-07}), ((333, 331), {'STARTUP=>FUNDING_AMOUNT': 1.3383433e-07, 'STARTUP=>INVESTOR_NAME': 2.0611535e-09, 'STARTUP=>FUNDING_DATE': 2.0611535e-09, 'STARTUP=>FOUNDER_NAME': 2.0611535e-09, 'STARTUP=>VALUATION': 5.1474312e-06, 'STARTUP=>LOSS': 6.7448786e-07, 'STARTUP=>PROFIT_DATE': 4.4430428e-07, 'STARTUP=>PROFIT': 8.9076116e-07, 'STARTUP=>FOUNDED_DATE': 2.1360062e-05, 'STARTUP=>REVENUE': 3.8411394e-09}), ((333, 361), {'STARTUP=>FUNDING_AMOUNT': 1.4127504e-06, 'STARTUP=>INVESTOR_NAME': 1.2830459e-05, 'STARTUP=>FUNDING_DATE': 2.0611535e-09, 'STARTUP=>FOUNDER_NAME': 2.4627985e-08, 'STARTUP=>VALUATION': 8.214485e-06, 'STARTUP=>LOSS': 1.2984398e-05, 'STARTUP=>PROFIT_DATE': 9.96009e-07, 'STARTUP=>PROFIT': 1.3695106e-06, 'STARTUP=>FOUNDED_DATE': 2.7161187e-09, 'STARTUP=>REVENUE': 1.5037558e-07}), ((361, 268), {'STARTUP=>FUNDING_AMOUNT': 1.1188e-06, 'STARTUP=>INVESTOR_NAME': 3.8915974e-08, 'STARTUP=>FUNDING_DATE': 9.851446e-08, 'STARTUP=>FOUNDER_NAME': 3.0017836e-06, 'STARTUP=>VALUATION': 0.00014584909, 'STARTUP=>LOSS': 0.00022768503, 'STARTUP=>PROFIT_DATE': 3.3200479e-06, 'STARTUP=>PROFIT': 4.092267e-05, 'STARTUP=>FOUNDED_DATE': 3.251009e-07, 'STARTUP=>REVENUE': 1.3067439e-06}), ((361, 311), {'STARTUP=>FUNDING_AMOUNT': 7.008964e-07, 'STARTUP=>INVESTOR_NAME': 1.3890416e-05, 'STARTUP=>FUNDING_DATE': 1.2217673e-07, 'STARTUP=>FOUNDER_NAME': 2.2921781e-06, 'STARTUP=>VALUATION': 5.244362e-05, 'STARTUP=>LOSS': 9.285744e-05, 'STARTUP=>PROFIT_DATE': 1.4847208e-06, 'STARTUP=>PROFIT': 2.5407431e-05, 'STARTUP=>FOUNDED_DATE': 5.092402e-09, 'STARTUP=>REVENUE': 7.9405745e-06}), ((361, 331), {'STARTUP=>FUNDING_AMOUNT': 2.9899874e-07, 'STARTUP=>INVESTOR_NAME': 2.0611535e-09, 'STARTUP=>FUNDING_DATE': 8.495896e-08, 'STARTUP=>FOUNDER_NAME': 2.4086118e-09, 'STARTUP=>VALUATION': 0.00010608082, 'STARTUP=>LOSS': 2.20955e-06, 'STARTUP=>PROFIT_DATE': 1.5815505e-06, 'STARTUP=>PROFIT': 4.095636e-06, 'STARTUP=>FOUNDED_DATE': 6.6346576e-05, 'STARTUP=>REVENUE': 1.3252664e-07}), ((361, 333), {'STARTUP=>FUNDING_AMOUNT': 1.3525833e-07, 'STARTUP=>INVESTOR_NAME': 8.060084e-06, 'STARTUP=>FUNDING_DATE': 8.319087e-09, 'STARTUP=>FOUNDER_NAME': 1.2260521e-07, 'STARTUP=>VALUATION': 2.1957467e-05, 'STARTUP=>LOSS': 1.5855563e-05, 'STARTUP=>PROFIT_DATE': 1.4595419e-06, 'STARTUP=>PROFIT': 1.8213676e-05, 'STARTUP=>FOUNDED_DATE': 2.0611535e-09, 'STARTUP=>REVENUE': 8.50591e-06})])\n"
          ]
        }
      ],
      "source": [
        "print(doc._.rel.items())"
      ]
    },
    {
      "cell_type": "code",
      "execution_count": null,
      "metadata": {
        "colab": {
          "base_uri": "https://localhost:8080/"
        },
        "id": "MZ9XsgbhT6jZ",
        "outputId": "a640cf78-754f-4f2b-b387-854a51ea3239"
      },
      "outputs": [
        {
          "name": "stdout",
          "output_type": "stream",
          "text": [
            "custom_functions.py  __init__.py            parse_data.py  rel_model.py\n",
            "evaluate.py          parse_data_generic.py  \u001b[0m\u001b[01;34m__pycache__\u001b[0m/   rel_pipe.py\n"
          ]
        }
      ],
      "source": [
        "ls"
      ]
    },
    {
      "cell_type": "code",
      "execution_count": null,
      "metadata": {
        "colab": {
          "base_uri": "https://localhost:8080/"
        },
        "id": "iL0c4q0Tbm6I",
        "outputId": "913135ed-a6ef-44a2-e738-966ced14f5f4"
      },
      "outputs": [
        {
          "name": "stdout",
          "output_type": "stream",
          "text": [
            "2023-04-17 04:17:25.024412: W tensorflow/compiler/tf2tensorrt/utils/py_utils.cc:38] TF-TRT Warning: Could not find TensorRT\n",
            "\n",
            "\u001b[38;5;1m✘ Can't find project.yml\u001b[0m\n",
            "/content/gdrive/MyDrive/Colab\n",
            "Notebooks/ProjectsExplotion/VCC_DATA/tutorials/rel_component/scripts/project.yml\n",
            "\n"
          ]
        }
      ],
      "source": []
    },
    {
      "cell_type": "code",
      "execution_count": null,
      "metadata": {
        "colab": {
          "base_uri": "https://localhost:8080/"
        },
        "id": "MnSz79tZT3Pl",
        "outputId": "46e14822-7701-44ce-9ee7-56cafd95b52f"
      },
      "outputs": [
        {
          "name": "stdout",
          "output_type": "stream",
          "text": [
            "2023-04-16 19:56:11.208186: W tensorflow/compiler/tf2tensorrt/utils/py_utils.cc:38] TF-TRT Warning: Could not find TensorRT\n",
            "\u001b[38;5;4mℹ Using CPU\u001b[0m\n",
            "Traceback (most recent call last):\n",
            "  File \"/usr/local/bin/spacy\", line 8, in <module>\n",
            "    sys.exit(setup_cli())\n",
            "  File \"/usr/local/lib/python3.9/dist-packages/spacy/cli/_util.py\", line 74, in setup_cli\n",
            "    command(prog_name=COMMAND)\n",
            "  File \"/usr/local/lib/python3.9/dist-packages/click/core.py\", line 829, in __call__\n",
            "    return self.main(*args, **kwargs)\n",
            "  File \"/usr/local/lib/python3.9/dist-packages/click/core.py\", line 782, in main\n",
            "    rv = self.invoke(ctx)\n",
            "  File \"/usr/local/lib/python3.9/dist-packages/click/core.py\", line 1259, in invoke\n",
            "    return _process_result(sub_ctx.command.invoke(sub_ctx))\n",
            "  File \"/usr/local/lib/python3.9/dist-packages/click/core.py\", line 1066, in invoke\n",
            "    return ctx.invoke(self.callback, **ctx.params)\n",
            "  File \"/usr/local/lib/python3.9/dist-packages/click/core.py\", line 610, in invoke\n",
            "    return callback(*args, **kwargs)\n",
            "  File \"/usr/local/lib/python3.9/dist-packages/typer/main.py\", line 497, in wrapper\n",
            "    return callback(**use_params)  # type: ignore\n",
            "  File \"/usr/local/lib/python3.9/dist-packages/spacy/cli/evaluate.py\", line 45, in evaluate_cli\n",
            "    evaluate(\n",
            "  File \"/usr/local/lib/python3.9/dist-packages/spacy/cli/evaluate.py\", line 79, in evaluate\n",
            "    nlp = util.load_model(model)\n",
            "  File \"/usr/local/lib/python3.9/dist-packages/spacy/util.py\", line 449, in load_model\n",
            "    raise IOError(Errors.E050.format(name=name))\n",
            "OSError: [E050] Can't find model './model-best'. It doesn't seem to be a Python package or a valid path to a data directory.\n"
          ]
        }
      ],
      "source": [
        "!spacy evaluate ./model-best ./test.spacy "
      ]
    }
  ],
  "metadata": {
    "colab": {
      "provenance": []
    },
    "gpuClass": "standard",
    "kernelspec": {
      "display_name": "Python 3",
      "name": "python3"
    },
    "language_info": {
      "name": "python"
    }
  },
  "nbformat": 4,
  "nbformat_minor": 0
}